{
  "nbformat": 4,
  "nbformat_minor": 0,
  "metadata": {
    "colab": {
      "name": "Untitledml0.ipynb",
      "provenance": [],
      "collapsed_sections": [],
      "authorship_tag": "ABX9TyOETCxQEDG6OYC/ezOq2uVL",
      "include_colab_link": true
    },
    "kernelspec": {
      "name": "python3",
      "display_name": "Python 3"
    },
    "language_info": {
      "name": "python"
    }
  },
  "cells": [
    {
      "cell_type": "markdown",
      "metadata": {
        "id": "view-in-github",
        "colab_type": "text"
      },
      "source": [
        "<a href=\"https://colab.research.google.com/github/lu7kin/New-world/blob/main/Untitledml0.ipynb\" target=\"_parent\"><img src=\"https://colab.research.google.com/assets/colab-badge.svg\" alt=\"Open In Colab\"/></a>"
      ]
    },
    {
      "cell_type": "code",
      "execution_count": 6,
      "metadata": {
        "id": "FqhjnGjrh5LI"
      },
      "outputs": [],
      "source": [
        "import pandas as pd\n",
        "import numpy as np\n",
        "import matplotlib.pyplot as plt\n",
        "import seaborn as sns\n",
        "import warnings\n",
        "warnings.filterwarnings(\"ignore\")"
      ]
    },
    {
      "cell_type": "markdown",
      "source": [
        "1.1 ЗАГРУЗКА ДАННЫХ\n",
        "\n",
        "Данные загружены. Представлен код по загрузке, отражено в отчете. Результаты очищены от технической информации, отражено в отчете.\n",
        "\n",
        "1.2 ПРЕДОБРАБОТКА ДАННЫХ\n",
        "\n",
        "Необходимо проанализировать значения атрибутов датасета, проанализировать значения, которыми заполнены признаки и обработать их при необходимости, отразить в отчете."
      ],
      "metadata": {
        "id": "UXff25GiikZq"
      }
    },
    {
      "cell_type": "markdown",
      "source": [
        "Модуль 1\n",
        "1.1 ЗАГРУЗКА ДАННЫХ"
      ],
      "metadata": {
        "id": "yfCxBp4Qi01r"
      }
    },
    {
      "cell_type": "code",
      "source": [
        "df = pd.read_csv(\"/content/real_estate_data.csv - real_estate_data.csv.csv\")"
      ],
      "metadata": {
        "id": "6FY-EBxGi39Z"
      },
      "execution_count": 9,
      "outputs": []
    },
    {
      "cell_type": "code",
      "source": [
        "df.head()\n"
      ],
      "metadata": {
        "colab": {
          "base_uri": "https://localhost:8080/",
          "height": 322
        },
        "id": "lWIVlAs9jPkF",
        "outputId": "bbbcfaa7-c48c-43da-8590-cd3e629dc5bf"
      },
      "execution_count": 10,
      "outputs": [
        {
          "output_type": "execute_result",
          "data": {
            "text/html": [
              "\n",
              "  <div id=\"df-2fb399f7-2a8c-44f8-8eaf-bb0982db0d82\">\n",
              "    <div class=\"colab-df-container\">\n",
              "      <div>\n",
              "<style scoped>\n",
              "    .dataframe tbody tr th:only-of-type {\n",
              "        vertical-align: middle;\n",
              "    }\n",
              "\n",
              "    .dataframe tbody tr th {\n",
              "        vertical-align: top;\n",
              "    }\n",
              "\n",
              "    .dataframe thead th {\n",
              "        text-align: right;\n",
              "    }\n",
              "</style>\n",
              "<table border=\"1\" class=\"dataframe\">\n",
              "  <thead>\n",
              "    <tr style=\"text-align: right;\">\n",
              "      <th></th>\n",
              "      <th>id</th>\n",
              "      <th>type</th>\n",
              "      <th>sub_type</th>\n",
              "      <th>start_date</th>\n",
              "      <th>end_date</th>\n",
              "      <th>listing_type</th>\n",
              "      <th>tom</th>\n",
              "      <th>building_age</th>\n",
              "      <th>total_floor_count</th>\n",
              "      <th>floor_no</th>\n",
              "      <th>room_count</th>\n",
              "      <th>size</th>\n",
              "      <th>address</th>\n",
              "      <th>furnished</th>\n",
              "      <th>heating_type</th>\n",
              "      <th>price</th>\n",
              "      <th>price_currency</th>\n",
              "    </tr>\n",
              "  </thead>\n",
              "  <tbody>\n",
              "    <tr>\n",
              "      <th>0</th>\n",
              "      <td>1</td>\n",
              "      <td>Konut</td>\n",
              "      <td>Rezidans</td>\n",
              "      <td>12/10/18</td>\n",
              "      <td>1/9/19</td>\n",
              "      <td>2</td>\n",
              "      <td>30</td>\n",
              "      <td>0</td>\n",
              "      <td>20 ve üzeri</td>\n",
              "      <td>2</td>\n",
              "      <td>2+1</td>\n",
              "      <td>90.0</td>\n",
              "      <td>İstanbul/Kartal/Kordonboyu</td>\n",
              "      <td>NaN</td>\n",
              "      <td>Fancoil</td>\n",
              "      <td>3500.0</td>\n",
              "      <td>TRY</td>\n",
              "    </tr>\n",
              "    <tr>\n",
              "      <th>1</th>\n",
              "      <td>2</td>\n",
              "      <td>Konut</td>\n",
              "      <td>Daire</td>\n",
              "      <td>2/13/19</td>\n",
              "      <td>NaN</td>\n",
              "      <td>1</td>\n",
              "      <td>14</td>\n",
              "      <td>0</td>\n",
              "      <td>20 ve üzeri</td>\n",
              "      <td>20 ve üzeri</td>\n",
              "      <td>1+0</td>\n",
              "      <td>43.0</td>\n",
              "      <td>İstanbul/Kartal/Kordonboyu</td>\n",
              "      <td>NaN</td>\n",
              "      <td>Fancoil</td>\n",
              "      <td>490000.0</td>\n",
              "      <td>TRY</td>\n",
              "    </tr>\n",
              "    <tr>\n",
              "      <th>2</th>\n",
              "      <td>3</td>\n",
              "      <td>Konut</td>\n",
              "      <td>Daire</td>\n",
              "      <td>10/9/18</td>\n",
              "      <td>11/8/18</td>\n",
              "      <td>1</td>\n",
              "      <td>30</td>\n",
              "      <td>0</td>\n",
              "      <td>1</td>\n",
              "      <td>Yüksek Giriş</td>\n",
              "      <td>2+1</td>\n",
              "      <td>NaN</td>\n",
              "      <td>Tekirdağ/Çorlu/Reşadiye</td>\n",
              "      <td>NaN</td>\n",
              "      <td>Fancoil</td>\n",
              "      <td>155000.0</td>\n",
              "      <td>TRY</td>\n",
              "    </tr>\n",
              "    <tr>\n",
              "      <th>3</th>\n",
              "      <td>4</td>\n",
              "      <td>Konut</td>\n",
              "      <td>Rezidans</td>\n",
              "      <td>9/10/18</td>\n",
              "      <td>10/10/18</td>\n",
              "      <td>1</td>\n",
              "      <td>30</td>\n",
              "      <td>3</td>\n",
              "      <td>20 ve üzeri</td>\n",
              "      <td>20 ve üzeri</td>\n",
              "      <td>6+1</td>\n",
              "      <td>450.0</td>\n",
              "      <td>İstanbul/Beşiktaş/Levent</td>\n",
              "      <td>NaN</td>\n",
              "      <td>Fancoil</td>\n",
              "      <td>32500000.0</td>\n",
              "      <td>TRY</td>\n",
              "    </tr>\n",
              "    <tr>\n",
              "      <th>4</th>\n",
              "      <td>5</td>\n",
              "      <td>Konut</td>\n",
              "      <td>Rezidans</td>\n",
              "      <td>12/10/18</td>\n",
              "      <td>1/9/19</td>\n",
              "      <td>1</td>\n",
              "      <td>30</td>\n",
              "      <td>0</td>\n",
              "      <td>20 ve üzeri</td>\n",
              "      <td>2</td>\n",
              "      <td>2+1</td>\n",
              "      <td>90.0</td>\n",
              "      <td>İstanbul/Kartal/Kordonboyu</td>\n",
              "      <td>NaN</td>\n",
              "      <td>Fancoil</td>\n",
              "      <td>1450000.0</td>\n",
              "      <td>TRY</td>\n",
              "    </tr>\n",
              "  </tbody>\n",
              "</table>\n",
              "</div>\n",
              "      <button class=\"colab-df-convert\" onclick=\"convertToInteractive('df-2fb399f7-2a8c-44f8-8eaf-bb0982db0d82')\"\n",
              "              title=\"Convert this dataframe to an interactive table.\"\n",
              "              style=\"display:none;\">\n",
              "        \n",
              "  <svg xmlns=\"http://www.w3.org/2000/svg\" height=\"24px\"viewBox=\"0 0 24 24\"\n",
              "       width=\"24px\">\n",
              "    <path d=\"M0 0h24v24H0V0z\" fill=\"none\"/>\n",
              "    <path d=\"M18.56 5.44l.94 2.06.94-2.06 2.06-.94-2.06-.94-.94-2.06-.94 2.06-2.06.94zm-11 1L8.5 8.5l.94-2.06 2.06-.94-2.06-.94L8.5 2.5l-.94 2.06-2.06.94zm10 10l.94 2.06.94-2.06 2.06-.94-2.06-.94-.94-2.06-.94 2.06-2.06.94z\"/><path d=\"M17.41 7.96l-1.37-1.37c-.4-.4-.92-.59-1.43-.59-.52 0-1.04.2-1.43.59L10.3 9.45l-7.72 7.72c-.78.78-.78 2.05 0 2.83L4 21.41c.39.39.9.59 1.41.59.51 0 1.02-.2 1.41-.59l7.78-7.78 2.81-2.81c.8-.78.8-2.07 0-2.86zM5.41 20L4 18.59l7.72-7.72 1.47 1.35L5.41 20z\"/>\n",
              "  </svg>\n",
              "      </button>\n",
              "      \n",
              "  <style>\n",
              "    .colab-df-container {\n",
              "      display:flex;\n",
              "      flex-wrap:wrap;\n",
              "      gap: 12px;\n",
              "    }\n",
              "\n",
              "    .colab-df-convert {\n",
              "      background-color: #E8F0FE;\n",
              "      border: none;\n",
              "      border-radius: 50%;\n",
              "      cursor: pointer;\n",
              "      display: none;\n",
              "      fill: #1967D2;\n",
              "      height: 32px;\n",
              "      padding: 0 0 0 0;\n",
              "      width: 32px;\n",
              "    }\n",
              "\n",
              "    .colab-df-convert:hover {\n",
              "      background-color: #E2EBFA;\n",
              "      box-shadow: 0px 1px 2px rgba(60, 64, 67, 0.3), 0px 1px 3px 1px rgba(60, 64, 67, 0.15);\n",
              "      fill: #174EA6;\n",
              "    }\n",
              "\n",
              "    [theme=dark] .colab-df-convert {\n",
              "      background-color: #3B4455;\n",
              "      fill: #D2E3FC;\n",
              "    }\n",
              "\n",
              "    [theme=dark] .colab-df-convert:hover {\n",
              "      background-color: #434B5C;\n",
              "      box-shadow: 0px 1px 3px 1px rgba(0, 0, 0, 0.15);\n",
              "      filter: drop-shadow(0px 1px 2px rgba(0, 0, 0, 0.3));\n",
              "      fill: #FFFFFF;\n",
              "    }\n",
              "  </style>\n",
              "\n",
              "      <script>\n",
              "        const buttonEl =\n",
              "          document.querySelector('#df-2fb399f7-2a8c-44f8-8eaf-bb0982db0d82 button.colab-df-convert');\n",
              "        buttonEl.style.display =\n",
              "          google.colab.kernel.accessAllowed ? 'block' : 'none';\n",
              "\n",
              "        async function convertToInteractive(key) {\n",
              "          const element = document.querySelector('#df-2fb399f7-2a8c-44f8-8eaf-bb0982db0d82');\n",
              "          const dataTable =\n",
              "            await google.colab.kernel.invokeFunction('convertToInteractive',\n",
              "                                                     [key], {});\n",
              "          if (!dataTable) return;\n",
              "\n",
              "          const docLinkHtml = 'Like what you see? Visit the ' +\n",
              "            '<a target=\"_blank\" href=https://colab.research.google.com/notebooks/data_table.ipynb>data table notebook</a>'\n",
              "            + ' to learn more about interactive tables.';\n",
              "          element.innerHTML = '';\n",
              "          dataTable['output_type'] = 'display_data';\n",
              "          await google.colab.output.renderOutput(dataTable, element);\n",
              "          const docLink = document.createElement('div');\n",
              "          docLink.innerHTML = docLinkHtml;\n",
              "          element.appendChild(docLink);\n",
              "        }\n",
              "      </script>\n",
              "    </div>\n",
              "  </div>\n",
              "  "
            ],
            "text/plain": [
              "   id   type  sub_type  ... heating_type       price  price_currency\n",
              "0   1  Konut  Rezidans  ...      Fancoil      3500.0             TRY\n",
              "1   2  Konut     Daire  ...      Fancoil    490000.0             TRY\n",
              "2   3  Konut     Daire  ...      Fancoil    155000.0             TRY\n",
              "3   4  Konut  Rezidans  ...      Fancoil  32500000.0             TRY\n",
              "4   5  Konut  Rezidans  ...      Fancoil   1450000.0             TRY\n",
              "\n",
              "[5 rows x 17 columns]"
            ]
          },
          "metadata": {},
          "execution_count": 10
        }
      ]
    },
    {
      "cell_type": "code",
      "source": [
        "df.tail()"
      ],
      "metadata": {
        "colab": {
          "base_uri": "https://localhost:8080/",
          "height": 322
        },
        "id": "n6HqnasinbrW",
        "outputId": "938d33df-62ea-4c64-b6d4-89c618d92477"
      },
      "execution_count": 11,
      "outputs": [
        {
          "output_type": "execute_result",
          "data": {
            "text/html": [
              "\n",
              "  <div id=\"df-33b3313f-5012-4946-b88d-7deb572be5a0\">\n",
              "    <div class=\"colab-df-container\">\n",
              "      <div>\n",
              "<style scoped>\n",
              "    .dataframe tbody tr th:only-of-type {\n",
              "        vertical-align: middle;\n",
              "    }\n",
              "\n",
              "    .dataframe tbody tr th {\n",
              "        vertical-align: top;\n",
              "    }\n",
              "\n",
              "    .dataframe thead th {\n",
              "        text-align: right;\n",
              "    }\n",
              "</style>\n",
              "<table border=\"1\" class=\"dataframe\">\n",
              "  <thead>\n",
              "    <tr style=\"text-align: right;\">\n",
              "      <th></th>\n",
              "      <th>id</th>\n",
              "      <th>type</th>\n",
              "      <th>sub_type</th>\n",
              "      <th>start_date</th>\n",
              "      <th>end_date</th>\n",
              "      <th>listing_type</th>\n",
              "      <th>tom</th>\n",
              "      <th>building_age</th>\n",
              "      <th>total_floor_count</th>\n",
              "      <th>floor_no</th>\n",
              "      <th>room_count</th>\n",
              "      <th>size</th>\n",
              "      <th>address</th>\n",
              "      <th>furnished</th>\n",
              "      <th>heating_type</th>\n",
              "      <th>price</th>\n",
              "      <th>price_currency</th>\n",
              "    </tr>\n",
              "  </thead>\n",
              "  <tbody>\n",
              "    <tr>\n",
              "      <th>78801</th>\n",
              "      <td>78802</td>\n",
              "      <td>Konut</td>\n",
              "      <td>Daire</td>\n",
              "      <td>11/3/18</td>\n",
              "      <td>12/3/18</td>\n",
              "      <td>2</td>\n",
              "      <td>30</td>\n",
              "      <td>3</td>\n",
              "      <td>10</td>\n",
              "      <td>3</td>\n",
              "      <td>1+1</td>\n",
              "      <td>80.0</td>\n",
              "      <td>Antalya/Alanya/Mahmutlar</td>\n",
              "      <td>NaN</td>\n",
              "      <td>Klima</td>\n",
              "      <td>1300.0</td>\n",
              "      <td>TRY</td>\n",
              "    </tr>\n",
              "    <tr>\n",
              "      <th>78802</th>\n",
              "      <td>78803</td>\n",
              "      <td>Konut</td>\n",
              "      <td>Daire</td>\n",
              "      <td>12/26/18</td>\n",
              "      <td>1/25/19</td>\n",
              "      <td>1</td>\n",
              "      <td>30</td>\n",
              "      <td>1</td>\n",
              "      <td>4</td>\n",
              "      <td>Bahçe katı</td>\n",
              "      <td>2+1</td>\n",
              "      <td>90.0</td>\n",
              "      <td>Antalya/Kepez/Varsak Karşıyaka</td>\n",
              "      <td>NaN</td>\n",
              "      <td>Klima</td>\n",
              "      <td>119000.0</td>\n",
              "      <td>TRY</td>\n",
              "    </tr>\n",
              "    <tr>\n",
              "      <th>78803</th>\n",
              "      <td>78804</td>\n",
              "      <td>Konut</td>\n",
              "      <td>Villa</td>\n",
              "      <td>1/22/19</td>\n",
              "      <td>NaN</td>\n",
              "      <td>1</td>\n",
              "      <td>36</td>\n",
              "      <td>6-10 arası</td>\n",
              "      <td>2</td>\n",
              "      <td>Müstakil</td>\n",
              "      <td>3+1</td>\n",
              "      <td>150.0</td>\n",
              "      <td>Aydın/Kuşadası/Yavansu</td>\n",
              "      <td>NaN</td>\n",
              "      <td>Klima</td>\n",
              "      <td>590000.0</td>\n",
              "      <td>TRY</td>\n",
              "    </tr>\n",
              "    <tr>\n",
              "      <th>78804</th>\n",
              "      <td>78805</td>\n",
              "      <td>Konut</td>\n",
              "      <td>Villa</td>\n",
              "      <td>10/3/18</td>\n",
              "      <td>11/2/18</td>\n",
              "      <td>1</td>\n",
              "      <td>30</td>\n",
              "      <td>16-20 arası</td>\n",
              "      <td>2</td>\n",
              "      <td>Müstakil</td>\n",
              "      <td>2+1</td>\n",
              "      <td>NaN</td>\n",
              "      <td>Aydın/Kuşadası/Kadınlar Denizi</td>\n",
              "      <td>NaN</td>\n",
              "      <td>Klima</td>\n",
              "      <td>237000.0</td>\n",
              "      <td>TRY</td>\n",
              "    </tr>\n",
              "    <tr>\n",
              "      <th>78805</th>\n",
              "      <td>78806</td>\n",
              "      <td>Konut</td>\n",
              "      <td>Daire</td>\n",
              "      <td>1/31/19</td>\n",
              "      <td>2/4/19</td>\n",
              "      <td>2</td>\n",
              "      <td>4</td>\n",
              "      <td>2</td>\n",
              "      <td>3</td>\n",
              "      <td>Bahçe katı</td>\n",
              "      <td>2+1</td>\n",
              "      <td>80.0</td>\n",
              "      <td>Muğla/Fethiye/Akarca</td>\n",
              "      <td>NaN</td>\n",
              "      <td>Klima</td>\n",
              "      <td>1100.0</td>\n",
              "      <td>TRY</td>\n",
              "    </tr>\n",
              "  </tbody>\n",
              "</table>\n",
              "</div>\n",
              "      <button class=\"colab-df-convert\" onclick=\"convertToInteractive('df-33b3313f-5012-4946-b88d-7deb572be5a0')\"\n",
              "              title=\"Convert this dataframe to an interactive table.\"\n",
              "              style=\"display:none;\">\n",
              "        \n",
              "  <svg xmlns=\"http://www.w3.org/2000/svg\" height=\"24px\"viewBox=\"0 0 24 24\"\n",
              "       width=\"24px\">\n",
              "    <path d=\"M0 0h24v24H0V0z\" fill=\"none\"/>\n",
              "    <path d=\"M18.56 5.44l.94 2.06.94-2.06 2.06-.94-2.06-.94-.94-2.06-.94 2.06-2.06.94zm-11 1L8.5 8.5l.94-2.06 2.06-.94-2.06-.94L8.5 2.5l-.94 2.06-2.06.94zm10 10l.94 2.06.94-2.06 2.06-.94-2.06-.94-.94-2.06-.94 2.06-2.06.94z\"/><path d=\"M17.41 7.96l-1.37-1.37c-.4-.4-.92-.59-1.43-.59-.52 0-1.04.2-1.43.59L10.3 9.45l-7.72 7.72c-.78.78-.78 2.05 0 2.83L4 21.41c.39.39.9.59 1.41.59.51 0 1.02-.2 1.41-.59l7.78-7.78 2.81-2.81c.8-.78.8-2.07 0-2.86zM5.41 20L4 18.59l7.72-7.72 1.47 1.35L5.41 20z\"/>\n",
              "  </svg>\n",
              "      </button>\n",
              "      \n",
              "  <style>\n",
              "    .colab-df-container {\n",
              "      display:flex;\n",
              "      flex-wrap:wrap;\n",
              "      gap: 12px;\n",
              "    }\n",
              "\n",
              "    .colab-df-convert {\n",
              "      background-color: #E8F0FE;\n",
              "      border: none;\n",
              "      border-radius: 50%;\n",
              "      cursor: pointer;\n",
              "      display: none;\n",
              "      fill: #1967D2;\n",
              "      height: 32px;\n",
              "      padding: 0 0 0 0;\n",
              "      width: 32px;\n",
              "    }\n",
              "\n",
              "    .colab-df-convert:hover {\n",
              "      background-color: #E2EBFA;\n",
              "      box-shadow: 0px 1px 2px rgba(60, 64, 67, 0.3), 0px 1px 3px 1px rgba(60, 64, 67, 0.15);\n",
              "      fill: #174EA6;\n",
              "    }\n",
              "\n",
              "    [theme=dark] .colab-df-convert {\n",
              "      background-color: #3B4455;\n",
              "      fill: #D2E3FC;\n",
              "    }\n",
              "\n",
              "    [theme=dark] .colab-df-convert:hover {\n",
              "      background-color: #434B5C;\n",
              "      box-shadow: 0px 1px 3px 1px rgba(0, 0, 0, 0.15);\n",
              "      filter: drop-shadow(0px 1px 2px rgba(0, 0, 0, 0.3));\n",
              "      fill: #FFFFFF;\n",
              "    }\n",
              "  </style>\n",
              "\n",
              "      <script>\n",
              "        const buttonEl =\n",
              "          document.querySelector('#df-33b3313f-5012-4946-b88d-7deb572be5a0 button.colab-df-convert');\n",
              "        buttonEl.style.display =\n",
              "          google.colab.kernel.accessAllowed ? 'block' : 'none';\n",
              "\n",
              "        async function convertToInteractive(key) {\n",
              "          const element = document.querySelector('#df-33b3313f-5012-4946-b88d-7deb572be5a0');\n",
              "          const dataTable =\n",
              "            await google.colab.kernel.invokeFunction('convertToInteractive',\n",
              "                                                     [key], {});\n",
              "          if (!dataTable) return;\n",
              "\n",
              "          const docLinkHtml = 'Like what you see? Visit the ' +\n",
              "            '<a target=\"_blank\" href=https://colab.research.google.com/notebooks/data_table.ipynb>data table notebook</a>'\n",
              "            + ' to learn more about interactive tables.';\n",
              "          element.innerHTML = '';\n",
              "          dataTable['output_type'] = 'display_data';\n",
              "          await google.colab.output.renderOutput(dataTable, element);\n",
              "          const docLink = document.createElement('div');\n",
              "          docLink.innerHTML = docLinkHtml;\n",
              "          element.appendChild(docLink);\n",
              "        }\n",
              "      </script>\n",
              "    </div>\n",
              "  </div>\n",
              "  "
            ],
            "text/plain": [
              "          id   type sub_type  ... heating_type     price  price_currency\n",
              "78801  78802  Konut    Daire  ...        Klima    1300.0             TRY\n",
              "78802  78803  Konut    Daire  ...        Klima  119000.0             TRY\n",
              "78803  78804  Konut    Villa  ...        Klima  590000.0             TRY\n",
              "78804  78805  Konut    Villa  ...        Klima  237000.0             TRY\n",
              "78805  78806  Konut    Daire  ...        Klima    1100.0             TRY\n",
              "\n",
              "[5 rows x 17 columns]"
            ]
          },
          "metadata": {},
          "execution_count": 11
        }
      ]
    },
    {
      "cell_type": "markdown",
      "source": [
        "1.2 ПРЕДОБРАБОТКА ДАННЫХ"
      ],
      "metadata": {
        "id": "nWxdWliYqqQ3"
      }
    },
    {
      "cell_type": "code",
      "source": [
        "df.shape # размерность массива данных"
      ],
      "metadata": {
        "colab": {
          "base_uri": "https://localhost:8080/"
        },
        "id": "f3HZQcxSqsn1",
        "outputId": "7c58a1ec-34a5-4458-e464-4e2f6a168c6c"
      },
      "execution_count": 12,
      "outputs": [
        {
          "output_type": "execute_result",
          "data": {
            "text/plain": [
              "(78806, 17)"
            ]
          },
          "metadata": {},
          "execution_count": 12
        }
      ]
    },
    {
      "cell_type": "code",
      "source": [
        "df.info()"
      ],
      "metadata": {
        "colab": {
          "base_uri": "https://localhost:8080/"
        },
        "id": "6y7ekalgMPwA",
        "outputId": "28fe77e9-8b3d-4323-ea86-6d0df54c6150"
      },
      "execution_count": 13,
      "outputs": [
        {
          "output_type": "stream",
          "name": "stdout",
          "text": [
            "<class 'pandas.core.frame.DataFrame'>\n",
            "RangeIndex: 78806 entries, 0 to 78805\n",
            "Data columns (total 17 columns):\n",
            " #   Column             Non-Null Count  Dtype  \n",
            "---  ------             --------------  -----  \n",
            " 0   id                 78806 non-null  int64  \n",
            " 1   type               78806 non-null  object \n",
            " 2   sub_type           78806 non-null  object \n",
            " 3   start_date         78806 non-null  object \n",
            " 4   end_date           49427 non-null  object \n",
            " 5   listing_type       78806 non-null  int64  \n",
            " 6   tom                78806 non-null  int64  \n",
            " 7   building_age       77189 non-null  object \n",
            " 8   total_floor_count  76803 non-null  object \n",
            " 9   floor_no           74435 non-null  object \n",
            " 10  room_count         78806 non-null  object \n",
            " 11  size               52806 non-null  float64\n",
            " 12  address            78806 non-null  object \n",
            " 13  furnished          0 non-null      float64\n",
            " 14  heating_type       78806 non-null  object \n",
            " 15  price              78774 non-null  float64\n",
            " 16  price_currency     78774 non-null  object \n",
            "dtypes: float64(3), int64(3), object(11)\n",
            "memory usage: 10.2+ MB\n"
          ]
        }
      ]
    },
    {
      "cell_type": "markdown",
      "source": [
        "Имеем 3 признака с типом данных float64, 3 признака с типо данных int64 и 11 признаков с типом данных object.\n",
        "\n",
        "Также можно заметить, что столбец furnished (мебельный) полностью заполнен пропусками данных (NaN)\n",
        "\n",
        "Давайте проверим количество пустых значений в остальных столбцах"
      ],
      "metadata": {
        "id": "GM_FlrPvMsKD"
      }
    },
    {
      "cell_type": "code",
      "source": [
        "df.isna().sum()"
      ],
      "metadata": {
        "colab": {
          "base_uri": "https://localhost:8080/"
        },
        "id": "VTp4Ob9RM4uV",
        "outputId": "705d3dcc-86ae-4f7e-8604-84c15e77a68b"
      },
      "execution_count": 14,
      "outputs": [
        {
          "output_type": "execute_result",
          "data": {
            "text/plain": [
              "id                       0\n",
              "type                     0\n",
              "sub_type                 0\n",
              "start_date               0\n",
              "end_date             29379\n",
              "listing_type             0\n",
              "tom                      0\n",
              "building_age          1617\n",
              "total_floor_count     2003\n",
              "floor_no              4371\n",
              "room_count               0\n",
              "size                 26000\n",
              "address                  0\n",
              "furnished            78806\n",
              "heating_type             0\n",
              "price                   32\n",
              "price_currency          32\n",
              "dtype: int64"
            ]
          },
          "metadata": {},
          "execution_count": 14
        }
      ]
    },
    {
      "cell_type": "markdown",
      "source": [
        "Удалим столбец furnished, т.к. в нем много NAN"
      ],
      "metadata": {
        "id": "SgNDKKe_NE8k"
      }
    },
    {
      "cell_type": "code",
      "source": [
        "df.drop(\"furnished\", axis = 1, inplace = True)"
      ],
      "metadata": {
        "id": "QV1LLSoZNRfT"
      },
      "execution_count": 15,
      "outputs": []
    },
    {
      "cell_type": "markdown",
      "source": [
        "Столбцы с датами преобразуем в формат даты"
      ],
      "metadata": {
        "id": "HFS2WdlGNcZy"
      }
    },
    {
      "cell_type": "code",
      "source": [
        "df[\"end_date\"] = pd.to_datetime(df[\"end_date\"])\n",
        "df[\"start_date\"] = pd.to_datetime(df[\"start_date\"])"
      ],
      "metadata": {
        "id": "IDIGGPrfNoJ6"
      },
      "execution_count": 16,
      "outputs": []
    },
    {
      "cell_type": "markdown",
      "source": [
        "Остальные столбцы будем обрабатывать и приводить к нужному виду"
      ],
      "metadata": {
        "id": "hFUijSrhNx4s"
      }
    },
    {
      "cell_type": "code",
      "source": [
        "df[\"total_floor_count\"].value_counts()"
      ],
      "metadata": {
        "colab": {
          "base_uri": "https://localhost:8080/"
        },
        "id": "yRPb_Gi1N3aC",
        "outputId": "a350e93a-cbf2-4af9-9570-2a12e42a4486"
      },
      "execution_count": 17,
      "outputs": [
        {
          "output_type": "execute_result",
          "data": {
            "text/plain": [
              "3              21667\n",
              "4              14360\n",
              "2              11829\n",
              "5               9497\n",
              "10-20 arası     6142\n",
              "6               2873\n",
              "10              2325\n",
              "7               2162\n",
              "8               1805\n",
              "9               1619\n",
              "1               1454\n",
              "20 ve üzeri     1070\n",
              "Name: total_floor_count, dtype: int64"
            ]
          },
          "metadata": {},
          "execution_count": 17
        }
      ]
    },
    {
      "cell_type": "markdown",
      "source": [
        "Столбец total_floor_count обработаем с помощью замены строк на числовой формат"
      ],
      "metadata": {
        "id": "Lncqut7tOGlD"
      }
    },
    {
      "cell_type": "code",
      "source": [
        "df[\"total_floor_count\"].replace(\"10-20 arası\", 15, inplace = True) # заменяем строку 10-20 на 15"
      ],
      "metadata": {
        "id": "tlyRu4_IOZzZ"
      },
      "execution_count": 18,
      "outputs": []
    },
    {
      "cell_type": "code",
      "source": [
        "df[\"total_floor_count\"].value_counts()"
      ],
      "metadata": {
        "colab": {
          "base_uri": "https://localhost:8080/"
        },
        "id": "pf_C3VtQOl4f",
        "outputId": "66cfb541-d800-49c0-a71a-d5e96e7c060d"
      },
      "execution_count": 19,
      "outputs": [
        {
          "output_type": "execute_result",
          "data": {
            "text/plain": [
              "3              21667\n",
              "4              14360\n",
              "2              11829\n",
              "5               9497\n",
              "15              6142\n",
              "6               2873\n",
              "10              2325\n",
              "7               2162\n",
              "8               1805\n",
              "9               1619\n",
              "1               1454\n",
              "20 ve üzeri     1070\n",
              "Name: total_floor_count, dtype: int64"
            ]
          },
          "metadata": {},
          "execution_count": 19
        }
      ]
    },
    {
      "cell_type": "code",
      "source": [
        "df[\"total_floor_count\"].replace(\"20 ve üzeri\", 20, inplace = True) # заменяем строку 20 ve uzeri на 20"
      ],
      "metadata": {
        "id": "saGA4jzCO5je"
      },
      "execution_count": 20,
      "outputs": []
    },
    {
      "cell_type": "code",
      "source": [
        "# заменяем пустые значения\n",
        "df[\"total_floor_count\"].fillna(df[\"total_floor_count\"].median(), inplace = True)"
      ],
      "metadata": {
        "id": "9Sa6vLfvPEqt"
      },
      "execution_count": 21,
      "outputs": []
    },
    {
      "cell_type": "code",
      "source": [
        "df[\"total_floor_count\"] = df[\"total_floor_count\"].astype(\"int64\") # поменяли тип столбца"
      ],
      "metadata": {
        "id": "inOxD11vPQkk"
      },
      "execution_count": 22,
      "outputs": []
    },
    {
      "cell_type": "markdown",
      "source": [
        "Обработали столбец количества этажей\n",
        "\n",
        "Перейдем к обработке столбца building_age"
      ],
      "metadata": {
        "id": "fbYUnmHGPbCt"
      }
    },
    {
      "cell_type": "code",
      "source": [
        "df[\"building_age\"].value_counts() # смотрим распределение переменной"
      ],
      "metadata": {
        "colab": {
          "base_uri": "https://localhost:8080/"
        },
        "id": "WjDJ-2-vPgZc",
        "outputId": "d3cc4a5c-15e8-4415-d14e-fb811e78cac3"
      },
      "execution_count": 23,
      "outputs": [
        {
          "output_type": "execute_result",
          "data": {
            "text/plain": [
              "0              24201\n",
              "6-10 arası     13021\n",
              "11-15 arası     8992\n",
              "16-20 arası     6829\n",
              "1               4302\n",
              "4               3914\n",
              "2               3733\n",
              "3               3450\n",
              "5               3393\n",
              "21-25 arası     2974\n",
              "26-30 arası     1537\n",
              "31-35 arası      550\n",
              "40 ve üzeri      155\n",
              "36-40 arası      138\n",
              "Name: building_age, dtype: int64"
            ]
          },
          "metadata": {},
          "execution_count": 23
        }
      ]
    },
    {
      "cell_type": "code",
      "source": [
        "df[\"building_age\"].replace(\"6-10 arası\", 8, inplace = True)\n",
        "df[\"building_age\"].replace(\"11-15 arası\", 13, inplace = True)\n",
        "df[\"building_age\"].replace(\"16-20 arası\", 18, inplace = True)\n",
        "df[\"building_age\"].replace(\"21-25 arası\", 23, inplace = True)\n",
        "df[\"building_age\"].replace(\"26-30 arası\", 28, inplace = True)\n",
        "df[\"building_age\"].replace(\"31-35 arası\", 33, inplace = True)\n",
        "df[\"building_age\"].replace(\"36-40 arası\", 38, inplace = True)\n",
        "df[\"building_age\"].replace(\"40 ve üzeri\", 40, inplace = True)"
      ],
      "metadata": {
        "id": "Xw3SRFG8P2UZ"
      },
      "execution_count": 24,
      "outputs": []
    },
    {
      "cell_type": "code",
      "source": [
        "df[\"building_age\"].value_counts()"
      ],
      "metadata": {
        "colab": {
          "base_uri": "https://localhost:8080/"
        },
        "id": "s38BB8ZCQIdd",
        "outputId": "ae5b362f-8069-419b-c9e2-cd1a734b8b48"
      },
      "execution_count": 25,
      "outputs": [
        {
          "output_type": "execute_result",
          "data": {
            "text/plain": [
              "0     24201\n",
              "8     13021\n",
              "13     8992\n",
              "18     6829\n",
              "1      4302\n",
              "4      3914\n",
              "2      3733\n",
              "3      3450\n",
              "5      3393\n",
              "23     2974\n",
              "28     1537\n",
              "33      550\n",
              "40      155\n",
              "38      138\n",
              "Name: building_age, dtype: int64"
            ]
          },
          "metadata": {},
          "execution_count": 25
        }
      ]
    },
    {
      "cell_type": "markdown",
      "source": [
        "Обработали столбец возраст здания\n",
        "\n",
        "Переходим к столбцу floor_no"
      ],
      "metadata": {
        "id": "xyYdc3s0QRuy"
      }
    },
    {
      "cell_type": "code",
      "source": [
        "df[\"floor_no\"].value_counts()"
      ],
      "metadata": {
        "colab": {
          "base_uri": "https://localhost:8080/"
        },
        "id": "NNASo5k4QXs3",
        "outputId": "503856b3-302f-4d4f-aae5-a60d019eb718"
      },
      "execution_count": 26,
      "outputs": [
        {
          "output_type": "execute_result",
          "data": {
            "text/plain": [
              "2               14601\n",
              "1               10225\n",
              "3                8500\n",
              "Müstakil         7396\n",
              "4                4578\n",
              "Yüksek Giriş     4513\n",
              "Bahçe katı       4394\n",
              "5                3094\n",
              "Giriş Katı       2285\n",
              "6                1878\n",
              "Komple           1404\n",
              "Kot 2            1309\n",
              "7                1257\n",
              "8                1122\n",
              "Kot 1            1049\n",
              "Kot 3             998\n",
              "Zemin Kat         948\n",
              "9                 872\n",
              "10                785\n",
              "Kot 4             559\n",
              "11                477\n",
              "12                404\n",
              "20 ve üzeri       325\n",
              "14                248\n",
              "Çatı Katı         217\n",
              "En Üst Kat        213\n",
              "13                182\n",
              "15                170\n",
              "Bodrum Kat        131\n",
              "Teras Kat          89\n",
              "16                 79\n",
              "17                 71\n",
              "18                 48\n",
              "19                  9\n",
              "Asma Kat            5\n",
              "Name: floor_no, dtype: int64"
            ]
          },
          "metadata": {},
          "execution_count": 26
        }
      ]
    },
    {
      "cell_type": "code",
      "source": [
        "from sklearn.preprocessing import LabelEncoder"
      ],
      "metadata": {
        "id": "rbi-7PKnQpzk"
      },
      "execution_count": 27,
      "outputs": []
    },
    {
      "cell_type": "code",
      "source": [
        "le = LabelEncoder()"
      ],
      "metadata": {
        "id": "0dvl9ktfRBKl"
      },
      "execution_count": 28,
      "outputs": []
    },
    {
      "cell_type": "code",
      "source": [
        "df[\"floor_no\"] = le.fit_transform(df[\"floor_no\"].astype(str)) # кодируем столбец"
      ],
      "metadata": {
        "id": "rH1GGY99RIdC"
      },
      "execution_count": 29,
      "outputs": []
    },
    {
      "cell_type": "code",
      "source": [
        "df[\"floor_no\"].value_counts()"
      ],
      "metadata": {
        "colab": {
          "base_uri": "https://localhost:8080/"
        },
        "id": "l6D6-M_FROwp",
        "outputId": "a51d28f7-b33d-448a-ae88-617dcfc50086"
      },
      "execution_count": 30,
      "outputs": [
        {
          "output_type": "execute_result",
          "data": {
            "text/plain": [
              "11    14601\n",
              "0     10225\n",
              "13     8500\n",
              "30     7396\n",
              "14     4578\n",
              "32     4513\n",
              "21     4394\n",
              "34     4371\n",
              "15     3094\n",
              "24     2285\n",
              "16     1878\n",
              "25     1404\n",
              "27     1309\n",
              "17     1257\n",
              "18     1122\n",
              "26     1049\n",
              "28      998\n",
              "33      948\n",
              "19      872\n",
              "1       785\n",
              "29      559\n",
              "2       477\n",
              "3       404\n",
              "12      325\n",
              "5       248\n",
              "35      217\n",
              "23      213\n",
              "4       182\n",
              "6       170\n",
              "22      131\n",
              "31       89\n",
              "7        79\n",
              "8        71\n",
              "9        48\n",
              "10        9\n",
              "20        5\n",
              "Name: floor_no, dtype: int64"
            ]
          },
          "metadata": {},
          "execution_count": 30
        }
      ]
    },
    {
      "cell_type": "code",
      "source": [
        "le.classes_"
      ],
      "metadata": {
        "colab": {
          "base_uri": "https://localhost:8080/"
        },
        "id": "aUEo5BbfRfSr",
        "outputId": "bcf70dc0-2123-4e06-ff67-37d095991d71"
      },
      "execution_count": 31,
      "outputs": [
        {
          "output_type": "execute_result",
          "data": {
            "text/plain": [
              "array(['1', '10', '11', '12', '13', '14', '15', '16', '17', '18', '19',\n",
              "       '2', '20 ve üzeri', '3', '4', '5', '6', '7', '8', '9', 'Asma Kat',\n",
              "       'Bahçe katı', 'Bodrum Kat', 'En Üst Kat', 'Giriş Katı', 'Komple',\n",
              "       'Kot 1', 'Kot 2', 'Kot 3', 'Kot 4', 'Müstakil', 'Teras Kat',\n",
              "       'Yüksek Giriş', 'Zemin Kat', 'nan', 'Çatı Katı'], dtype=object)"
            ]
          },
          "metadata": {},
          "execution_count": 31
        }
      ]
    },
    {
      "cell_type": "markdown",
      "source": [
        "Переходим к следующему признаку - size"
      ],
      "metadata": {
        "id": "1GwwxDo9d1Ka"
      }
    },
    {
      "cell_type": "code",
      "source": [
        "df[\"size\"].value_counts()"
      ],
      "metadata": {
        "colab": {
          "base_uri": "https://localhost:8080/"
        },
        "id": "2w4CahJhd7Xl",
        "outputId": "52b07ea3-4d56-42dc-fc9f-ec3ca43d8ac0"
      },
      "execution_count": 32,
      "outputs": [
        {
          "output_type": "execute_result",
          "data": {
            "text/plain": [
              "90.0        3295\n",
              "100.0       3184\n",
              "120.0       3083\n",
              "80.0        2597\n",
              "110.0       2535\n",
              "            ... \n",
              "204835.0       1\n",
              "1194.0         1\n",
              "960.0          1\n",
              "218.0          1\n",
              "452189.0       1\n",
              "Name: size, Length: 505, dtype: int64"
            ]
          },
          "metadata": {},
          "execution_count": 32
        }
      ]
    },
    {
      "cell_type": "code",
      "source": [
        "df.boxplot(\"size\")"
      ],
      "metadata": {
        "colab": {
          "base_uri": "https://localhost:8080/",
          "height": 282
        },
        "id": "OLuzOWrWeLn5",
        "outputId": "e9e0c9e7-23c6-43f9-d8d9-9960855c50fd"
      },
      "execution_count": 33,
      "outputs": [
        {
          "output_type": "execute_result",
          "data": {
            "text/plain": [
              "<matplotlib.axes._subplots.AxesSubplot at 0x7f4d070a1610>"
            ]
          },
          "metadata": {},
          "execution_count": 33
        },
        {
          "output_type": "display_data",
          "data": {
            "image/png": "[encoded data removed]",
            "text/plain": [
              "<Figure size 432x288 with 1 Axes>"
            ]
          },
          "metadata": {
            "needs_background": "light"
          }
        }
      ]
    },
    {
      "cell_type": "code",
      "source": [
        "quant = df[\"size\"].quantile(0.9)# считаем квантиль 90 %\n",
        "quant_low = df[\"size\"].quantile(0.1)# считаем квантиль 10 %"
      ],
      "metadata": {
        "id": "kMEWENOMecLo"
      },
      "execution_count": 34,
      "outputs": []
    },
    {
      "cell_type": "code",
      "source": [
        "df_new = df[df[\"size\"] < quant] # убираем выбросы по квантилю\n",
        "df_new = df_new[df_new[\"size\"] > quant_low] # убираем выбросы по квантилю"
      ],
      "metadata": {
        "id": "6SMcB_3beoMf"
      },
      "execution_count": 35,
      "outputs": []
    },
    {
      "cell_type": "code",
      "source": [
        "df_new.boxplot(\"size\") # строим ящик с усами и показываем, что выбросов практически нет"
      ],
      "metadata": {
        "colab": {
          "base_uri": "https://localhost:8080/",
          "height": 282
        },
        "id": "193Q8RVaewxU",
        "outputId": "da71efc5-250f-4b06-a64e-ac0713f88be8"
      },
      "execution_count": 36,
      "outputs": [
        {
          "output_type": "execute_result",
          "data": {
            "text/plain": [
              "<matplotlib.axes._subplots.AxesSubplot at 0x7f4d06ab6b50>"
            ]
          },
          "metadata": {},
          "execution_count": 36
        },
        {
          "output_type": "display_data",
          "data": {
            "image/png": "[encoded data removed]",
            "text/plain": [
              "<Figure size 432x288 with 1 Axes>"
            ]
          },
          "metadata": {
            "needs_background": "light"
          }
        }
      ]
    },
    {
      "cell_type": "code",
      "source": [
        "df_new[df_new[\"size\"] < quant][\"size\"].max() # считаем максимум"
      ],
      "metadata": {
        "colab": {
          "base_uri": "https://localhost:8080/"
        },
        "id": "iJv_bCWie7q4",
        "outputId": "fff27c7a-9e6e-4560-9d73-7356ec4b75e5"
      },
      "execution_count": 37,
      "outputs": [
        {
          "output_type": "execute_result",
          "data": {
            "text/plain": [
              "184.0"
            ]
          },
          "metadata": {},
          "execution_count": 37
        }
      ]
    },
    {
      "cell_type": "code",
      "source": [
        "df_new[\"size\"].value_counts()"
      ],
      "metadata": {
        "colab": {
          "base_uri": "https://localhost:8080/"
        },
        "id": "Cg81XeWHfEZ2",
        "outputId": "59a8b57f-baca-479f-cd1d-ef0ba436b727"
      },
      "execution_count": 38,
      "outputs": [
        {
          "output_type": "execute_result",
          "data": {
            "text/plain": [
              "90.0     3295\n",
              "100.0    3184\n",
              "120.0    3083\n",
              "80.0     2597\n",
              "110.0    2535\n",
              "         ... \n",
              "173.0       9\n",
              "184.0       6\n",
              "182.0       5\n",
              "181.0       5\n",
              "167.0       5\n",
              "Name: size, Length: 124, dtype: int64"
            ]
          },
          "metadata": {},
          "execution_count": 38
        }
      ]
    },
    {
      "cell_type": "code",
      "source": [
        "df_new.isna().sum() # пустых значений нет"
      ],
      "metadata": {
        "colab": {
          "base_uri": "https://localhost:8080/"
        },
        "id": "RKcv9xCOfQlZ",
        "outputId": "b2371885-e08c-4a91-f28e-70207a8f9ab4"
      },
      "execution_count": 39,
      "outputs": [
        {
          "output_type": "execute_result",
          "data": {
            "text/plain": [
              "id                       0\n",
              "type                     0\n",
              "sub_type                 0\n",
              "start_date               0\n",
              "end_date             17734\n",
              "listing_type             0\n",
              "tom                      0\n",
              "building_age           883\n",
              "total_floor_count        0\n",
              "floor_no                 0\n",
              "room_count               0\n",
              "size                     0\n",
              "address                  0\n",
              "heating_type             0\n",
              "price                   18\n",
              "price_currency          18\n",
              "dtype: int64"
            ]
          },
          "metadata": {},
          "execution_count": 39
        }
      ]
    },
    {
      "cell_type": "markdown",
      "source": [
        "Теперь этот признак хороший!"
      ],
      "metadata": {
        "id": "N2aeXnm6fdbV"
      }
    },
    {
      "cell_type": "code",
      "source": [
        "df_new.info()"
      ],
      "metadata": {
        "colab": {
          "base_uri": "https://localhost:8080/"
        },
        "id": "WISI-6hGfh4m",
        "outputId": "c6549145-8abc-46d1-806a-595c2ebbdbe8"
      },
      "execution_count": 40,
      "outputs": [
        {
          "output_type": "stream",
          "name": "stdout",
          "text": [
            "<class 'pandas.core.frame.DataFrame'>\n",
            "Int64Index: 41799 entries, 0 to 78805\n",
            "Data columns (total 16 columns):\n",
            " #   Column             Non-Null Count  Dtype         \n",
            "---  ------             --------------  -----         \n",
            " 0   id                 41799 non-null  int64         \n",
            " 1   type               41799 non-null  object        \n",
            " 2   sub_type           41799 non-null  object        \n",
            " 3   start_date         41799 non-null  datetime64[ns]\n",
            " 4   end_date           24065 non-null  datetime64[ns]\n",
            " 5   listing_type       41799 non-null  int64         \n",
            " 6   tom                41799 non-null  int64         \n",
            " 7   building_age       40916 non-null  object        \n",
            " 8   total_floor_count  41799 non-null  int64         \n",
            " 9   floor_no           41799 non-null  int64         \n",
            " 10  room_count         41799 non-null  object        \n",
            " 11  size               41799 non-null  float64       \n",
            " 12  address            41799 non-null  object        \n",
            " 13  heating_type       41799 non-null  object        \n",
            " 14  price              41781 non-null  float64       \n",
            " 15  price_currency     41781 non-null  object        \n",
            "dtypes: datetime64[ns](2), float64(2), int64(5), object(7)\n",
            "memory usage: 5.4+ MB\n"
          ]
        }
      ]
    },
    {
      "cell_type": "code",
      "source": [
        "df_new[\"heating_type\"].value_counts()"
      ],
      "metadata": {
        "colab": {
          "base_uri": "https://localhost:8080/"
        },
        "id": "alelWDhLfvrC",
        "outputId": "aefb1e40-b8f8-4e4d-f405-10663fe0f012"
      },
      "execution_count": 41,
      "outputs": [
        {
          "output_type": "execute_result",
          "data": {
            "text/plain": [
              "Klima                   29428\n",
              "Kalorifer (Doğalgaz)     6622\n",
              "Yok                      2998\n",
              "Kombi (Elektrikli)       1820\n",
              "Kalorifer (Kömür)         755\n",
              "Fancoil                   176\n",
              "Name: heating_type, dtype: int64"
            ]
          },
          "metadata": {},
          "execution_count": 41
        }
      ]
    },
    {
      "cell_type": "code",
      "source": [
        "df_new[\"heating_type\"].fillna(\"Kombi (Doğalgaz)\", inplace = True) # заменяем пропуски на часто встречаемое"
      ],
      "metadata": {
        "id": "o7SOXVIef8Pl"
      },
      "execution_count": 42,
      "outputs": []
    },
    {
      "cell_type": "code",
      "source": [
        "df_new[\"heating_type\"] = le.fit_transform(df_new[\"heating_type\"]) # кодируем переменную кодировщиком"
      ],
      "metadata": {
        "id": "W7pBGChtgBY1"
      },
      "execution_count": 43,
      "outputs": []
    },
    {
      "cell_type": "code",
      "source": [
        "df_new[\"heating_type\"].value_counts()"
      ],
      "metadata": {
        "colab": {
          "base_uri": "https://localhost:8080/"
        },
        "id": "-itsfhtAgG2M",
        "outputId": "1fc9efd9-1333-4486-f410-c1320de46d00"
      },
      "execution_count": 44,
      "outputs": [
        {
          "output_type": "execute_result",
          "data": {
            "text/plain": [
              "3    29428\n",
              "1     6622\n",
              "5     2998\n",
              "4     1820\n",
              "2      755\n",
              "0      176\n",
              "Name: heating_type, dtype: int64"
            ]
          },
          "metadata": {},
          "execution_count": 44
        }
      ]
    },
    {
      "cell_type": "markdown",
      "source": [
        "Переходим к признаку price"
      ],
      "metadata": {
        "id": "jxSp8aZPgPqO"
      }
    },
    {
      "cell_type": "code",
      "source": [
        "df_new['price'].value_counts()"
      ],
      "metadata": {
        "colab": {
          "base_uri": "https://localhost:8080/"
        },
        "id": "PbvArF56gVHu",
        "outputId": "22f746a3-0f2c-43a8-c8a4-2b65edbab82e"
      },
      "execution_count": 45,
      "outputs": [
        {
          "output_type": "execute_result",
          "data": {
            "text/plain": [
              "1000.0       884\n",
              "250000.0     623\n",
              "350000.0     622\n",
              "1500.0       501\n",
              "300000.0     498\n",
              "            ... \n",
              "134999.0       1\n",
              "539999.0       1\n",
              "379900.0       1\n",
              "2199.0         1\n",
              "4975000.0      1\n",
              "Name: price, Length: 1396, dtype: int64"
            ]
          },
          "metadata": {},
          "execution_count": 45
        }
      ]
    },
    {
      "cell_type": "code",
      "source": [
        "df_new.describe().T"
      ],
      "metadata": {
        "colab": {
          "base_uri": "https://localhost:8080/",
          "height": 300
        },
        "id": "3a5L1644gf8m",
        "outputId": "f4abbb25-7694-4585-f0ac-ad61379e02df"
      },
      "execution_count": 46,
      "outputs": [
        {
          "output_type": "execute_result",
          "data": {
            "text/html": [
              "\n",
              "  <div id=\"df-28a75579-cebd-46d2-a352-20cd5050d0e8\">\n",
              "    <div class=\"colab-df-container\">\n",
              "      <div>\n",
              "<style scoped>\n",
              "    .dataframe tbody tr th:only-of-type {\n",
              "        vertical-align: middle;\n",
              "    }\n",
              "\n",
              "    .dataframe tbody tr th {\n",
              "        vertical-align: top;\n",
              "    }\n",
              "\n",
              "    .dataframe thead th {\n",
              "        text-align: right;\n",
              "    }\n",
              "</style>\n",
              "<table border=\"1\" class=\"dataframe\">\n",
              "  <thead>\n",
              "    <tr style=\"text-align: right;\">\n",
              "      <th></th>\n",
              "      <th>count</th>\n",
              "      <th>mean</th>\n",
              "      <th>std</th>\n",
              "      <th>min</th>\n",
              "      <th>25%</th>\n",
              "      <th>50%</th>\n",
              "      <th>75%</th>\n",
              "      <th>max</th>\n",
              "    </tr>\n",
              "  </thead>\n",
              "  <tbody>\n",
              "    <tr>\n",
              "      <th>id</th>\n",
              "      <td>41799.0</td>\n",
              "      <td>39536.141893</td>\n",
              "      <td>2.282518e+04</td>\n",
              "      <td>1.0</td>\n",
              "      <td>18827.5</td>\n",
              "      <td>39995.0</td>\n",
              "      <td>59480.5</td>\n",
              "      <td>78806.0</td>\n",
              "    </tr>\n",
              "    <tr>\n",
              "      <th>listing_type</th>\n",
              "      <td>41799.0</td>\n",
              "      <td>1.244145</td>\n",
              "      <td>4.428566e-01</td>\n",
              "      <td>1.0</td>\n",
              "      <td>1.0</td>\n",
              "      <td>1.0</td>\n",
              "      <td>1.0</td>\n",
              "      <td>3.0</td>\n",
              "    </tr>\n",
              "    <tr>\n",
              "      <th>tom</th>\n",
              "      <td>41799.0</td>\n",
              "      <td>47.630733</td>\n",
              "      <td>3.645666e+01</td>\n",
              "      <td>0.0</td>\n",
              "      <td>21.0</td>\n",
              "      <td>30.0</td>\n",
              "      <td>69.0</td>\n",
              "      <td>180.0</td>\n",
              "    </tr>\n",
              "    <tr>\n",
              "      <th>total_floor_count</th>\n",
              "      <td>41799.0</td>\n",
              "      <td>5.152420</td>\n",
              "      <td>3.860225e+00</td>\n",
              "      <td>1.0</td>\n",
              "      <td>3.0</td>\n",
              "      <td>4.0</td>\n",
              "      <td>5.0</td>\n",
              "      <td>20.0</td>\n",
              "    </tr>\n",
              "    <tr>\n",
              "      <th>floor_no</th>\n",
              "      <td>41799.0</td>\n",
              "      <td>16.112778</td>\n",
              "      <td>1.031893e+01</td>\n",
              "      <td>0.0</td>\n",
              "      <td>11.0</td>\n",
              "      <td>14.0</td>\n",
              "      <td>25.0</td>\n",
              "      <td>35.0</td>\n",
              "    </tr>\n",
              "    <tr>\n",
              "      <th>size</th>\n",
              "      <td>41799.0</td>\n",
              "      <td>112.727673</td>\n",
              "      <td>3.029480e+01</td>\n",
              "      <td>61.0</td>\n",
              "      <td>90.0</td>\n",
              "      <td>110.0</td>\n",
              "      <td>135.0</td>\n",
              "      <td>184.0</td>\n",
              "    </tr>\n",
              "    <tr>\n",
              "      <th>heating_type</th>\n",
              "      <td>41799.0</td>\n",
              "      <td>2.839446</td>\n",
              "      <td>9.971672e-01</td>\n",
              "      <td>0.0</td>\n",
              "      <td>3.0</td>\n",
              "      <td>3.0</td>\n",
              "      <td>3.0</td>\n",
              "      <td>5.0</td>\n",
              "    </tr>\n",
              "    <tr>\n",
              "      <th>price</th>\n",
              "      <td>41781.0</td>\n",
              "      <td>304036.772145</td>\n",
              "      <td>1.816396e+06</td>\n",
              "      <td>22.0</td>\n",
              "      <td>95000.0</td>\n",
              "      <td>225000.0</td>\n",
              "      <td>355000.0</td>\n",
              "      <td>300000000.0</td>\n",
              "    </tr>\n",
              "  </tbody>\n",
              "</table>\n",
              "</div>\n",
              "      <button class=\"colab-df-convert\" onclick=\"convertToInteractive('df-28a75579-cebd-46d2-a352-20cd5050d0e8')\"\n",
              "              title=\"Convert this dataframe to an interactive table.\"\n",
              "              style=\"display:none;\">\n",
              "        \n",
              "  <svg xmlns=\"http://www.w3.org/2000/svg\" height=\"24px\"viewBox=\"0 0 24 24\"\n",
              "       width=\"24px\">\n",
              "    <path d=\"M0 0h24v24H0V0z\" fill=\"none\"/>\n",
              "    <path d=\"M18.56 5.44l.94 2.06.94-2.06 2.06-.94-2.06-.94-.94-2.06-.94 2.06-2.06.94zm-11 1L8.5 8.5l.94-2.06 2.06-.94-2.06-.94L8.5 2.5l-.94 2.06-2.06.94zm10 10l.94 2.06.94-2.06 2.06-.94-2.06-.94-.94-2.06-.94 2.06-2.06.94z\"/><path d=\"M17.41 7.96l-1.37-1.37c-.4-.4-.92-.59-1.43-.59-.52 0-1.04.2-1.43.59L10.3 9.45l-7.72 7.72c-.78.78-.78 2.05 0 2.83L4 21.41c.39.39.9.59 1.41.59.51 0 1.02-.2 1.41-.59l7.78-7.78 2.81-2.81c.8-.78.8-2.07 0-2.86zM5.41 20L4 18.59l7.72-7.72 1.47 1.35L5.41 20z\"/>\n",
              "  </svg>\n",
              "      </button>\n",
              "      \n",
              "  <style>\n",
              "    .colab-df-container {\n",
              "      display:flex;\n",
              "      flex-wrap:wrap;\n",
              "      gap: 12px;\n",
              "    }\n",
              "\n",
              "    .colab-df-convert {\n",
              "      background-color: #E8F0FE;\n",
              "      border: none;\n",
              "      border-radius: 50%;\n",
              "      cursor: pointer;\n",
              "      display: none;\n",
              "      fill: #1967D2;\n",
              "      height: 32px;\n",
              "      padding: 0 0 0 0;\n",
              "      width: 32px;\n",
              "    }\n",
              "\n",
              "    .colab-df-convert:hover {\n",
              "      background-color: #E2EBFA;\n",
              "      box-shadow: 0px 1px 2px rgba(60, 64, 67, 0.3), 0px 1px 3px 1px rgba(60, 64, 67, 0.15);\n",
              "      fill: #174EA6;\n",
              "    }\n",
              "\n",
              "    [theme=dark] .colab-df-convert {\n",
              "      background-color: #3B4455;\n",
              "      fill: #D2E3FC;\n",
              "    }\n",
              "\n",
              "    [theme=dark] .colab-df-convert:hover {\n",
              "      background-color: #434B5C;\n",
              "      box-shadow: 0px 1px 3px 1px rgba(0, 0, 0, 0.15);\n",
              "      filter: drop-shadow(0px 1px 2px rgba(0, 0, 0, 0.3));\n",
              "      fill: #FFFFFF;\n",
              "    }\n",
              "  </style>\n",
              "\n",
              "      <script>\n",
              "        const buttonEl =\n",
              "          document.querySelector('#df-28a75579-cebd-46d2-a352-20cd5050d0e8 button.colab-df-convert');\n",
              "        buttonEl.style.display =\n",
              "          google.colab.kernel.accessAllowed ? 'block' : 'none';\n",
              "\n",
              "        async function convertToInteractive(key) {\n",
              "          const element = document.querySelector('#df-28a75579-cebd-46d2-a352-20cd5050d0e8');\n",
              "          const dataTable =\n",
              "            await google.colab.kernel.invokeFunction('convertToInteractive',\n",
              "                                                     [key], {});\n",
              "          if (!dataTable) return;\n",
              "\n",
              "          const docLinkHtml = 'Like what you see? Visit the ' +\n",
              "            '<a target=\"_blank\" href=https://colab.research.google.com/notebooks/data_table.ipynb>data table notebook</a>'\n",
              "            + ' to learn more about interactive tables.';\n",
              "          element.innerHTML = '';\n",
              "          dataTable['output_type'] = 'display_data';\n",
              "          await google.colab.output.renderOutput(dataTable, element);\n",
              "          const docLink = document.createElement('div');\n",
              "          docLink.innerHTML = docLinkHtml;\n",
              "          element.appendChild(docLink);\n",
              "        }\n",
              "      </script>\n",
              "    </div>\n",
              "  </div>\n",
              "  "
            ],
            "text/plain": [
              "                     count           mean  ...       75%          max\n",
              "id                 41799.0   39536.141893  ...   59480.5      78806.0\n",
              "listing_type       41799.0       1.244145  ...       1.0          3.0\n",
              "tom                41799.0      47.630733  ...      69.0        180.0\n",
              "total_floor_count  41799.0       5.152420  ...       5.0         20.0\n",
              "floor_no           41799.0      16.112778  ...      25.0         35.0\n",
              "size               41799.0     112.727673  ...     135.0        184.0\n",
              "heating_type       41799.0       2.839446  ...       3.0          5.0\n",
              "price              41781.0  304036.772145  ...  355000.0  300000000.0\n",
              "\n",
              "[8 rows x 8 columns]"
            ]
          },
          "metadata": {},
          "execution_count": 46
        }
      ]
    },
    {
      "cell_type": "code",
      "source": [
        "df_new[\"price\"].fillna(df_new[\"price\"].median(), inplace = True)"
      ],
      "metadata": {
        "id": "LLtEJvT3gq2s"
      },
      "execution_count": 47,
      "outputs": []
    },
    {
      "cell_type": "code",
      "source": [
        "quant = df_new[\"price\"].quantile(0.9)# считаем квантиль 90 %\n",
        "quant_low = df_new[\"price\"].quantile(0.25)# считаем квантиль 10 %"
      ],
      "metadata": {
        "id": "BsInFA4ygykN"
      },
      "execution_count": 48,
      "outputs": []
    },
    {
      "cell_type": "code",
      "source": [
        "df_new2 = df_new[df_new[\"price\"] < quant] # убираем выбросы по квантилю\n",
        "df_new2 = df_new2[df_new2[\"price\"] > quant_low] # убираем выбросы по квантилю"
      ],
      "metadata": {
        "id": "_g3E3e5kg31j"
      },
      "execution_count": 49,
      "outputs": []
    },
    {
      "cell_type": "code",
      "source": [
        "df_new2.boxplot(\"price\")"
      ],
      "metadata": {
        "colab": {
          "base_uri": "https://localhost:8080/",
          "height": 282
        },
        "id": "ShdUPVlUg-Ub",
        "outputId": "a2a72904-a128-4881-c137-8c45eee225c4"
      },
      "execution_count": 50,
      "outputs": [
        {
          "output_type": "execute_result",
          "data": {
            "text/plain": [
              "<matplotlib.axes._subplots.AxesSubplot at 0x7f4d081d1910>"
            ]
          },
          "metadata": {},
          "execution_count": 50
        },
        {
          "output_type": "display_data",
          "data": {
            "image/png": "[encoded data removed]",
            "text/plain": [
              "<Figure size 432x288 with 1 Axes>"
            ]
          },
          "metadata": {
            "needs_background": "light"
          }
        }
      ]
    },
    {
      "cell_type": "code",
      "source": [
        "df_new2[\"price\"].hist()"
      ],
      "metadata": {
        "colab": {
          "base_uri": "https://localhost:8080/",
          "height": 282
        },
        "id": "OC8x929WhGwY",
        "outputId": "45e6fb1c-e442-46d9-a0d9-deed0d31329a"
      },
      "execution_count": 51,
      "outputs": [
        {
          "output_type": "execute_result",
          "data": {
            "text/plain": [
              "<matplotlib.axes._subplots.AxesSubplot at 0x7f4d059c4410>"
            ]
          },
          "metadata": {},
          "execution_count": 51
        },
        {
          "output_type": "display_data",
          "data": {
            "image/png": "[encoded data removed]",
            "text/plain": [
              "<Figure size 432x288 with 1 Axes>"
            ]
          },
          "metadata": {
            "needs_background": "light"
          }
        }
      ]
    },
    {
      "cell_type": "code",
      "source": [
        "df_new2.shape"
      ],
      "metadata": {
        "colab": {
          "base_uri": "https://localhost:8080/"
        },
        "id": "PW--VPhRhNsG",
        "outputId": "4539f79f-ff06-4193-c50b-a7efea8c425a"
      },
      "execution_count": 52,
      "outputs": [
        {
          "output_type": "execute_result",
          "data": {
            "text/plain": [
              "(27116, 16)"
            ]
          },
          "metadata": {},
          "execution_count": 52
        }
      ]
    },
    {
      "cell_type": "code",
      "source": [
        "df_new2[\"price_currency\"].value_counts()"
      ],
      "metadata": {
        "colab": {
          "base_uri": "https://localhost:8080/"
        },
        "id": "Kg-px1oAhS4l",
        "outputId": "3623dde0-1260-444c-f620-14408c4dcce5"
      },
      "execution_count": 53,
      "outputs": [
        {
          "output_type": "execute_result",
          "data": {
            "text/plain": [
              "TRY    27056\n",
              "GBP       20\n",
              "EUR       19\n",
              "USD        3\n",
              "Name: price_currency, dtype: int64"
            ]
          },
          "metadata": {},
          "execution_count": 53
        }
      ]
    },
    {
      "cell_type": "markdown",
      "source": [
        "Заменим пустые значения самым часто-встречающимся."
      ],
      "metadata": {
        "id": "yADh94GBhbbQ"
      }
    },
    {
      "cell_type": "code",
      "source": [
        "df_new[\"price_currency\"].fillna(\"TRY\", inplace = True)"
      ],
      "metadata": {
        "id": "o2EPtNFnhgtM"
      },
      "execution_count": 54,
      "outputs": []
    },
    {
      "cell_type": "markdown",
      "source": [
        "кодируем значения столбца с помощью LabelEncodera"
      ],
      "metadata": {
        "id": "0kE-BgUchnEI"
      }
    },
    {
      "cell_type": "code",
      "source": [
        "df_new[\"price_currency\"] = le.fit_transform(df_new[\"price_currency\"])"
      ],
      "metadata": {
        "id": "LvWcVPV0htrY"
      },
      "execution_count": 55,
      "outputs": []
    },
    {
      "cell_type": "code",
      "source": [
        "df_new.info()"
      ],
      "metadata": {
        "colab": {
          "base_uri": "https://localhost:8080/"
        },
        "id": "wE51ELBchyQr",
        "outputId": "4f63d54c-b7b7-4075-9bea-554b7f110844"
      },
      "execution_count": 56,
      "outputs": [
        {
          "output_type": "stream",
          "name": "stdout",
          "text": [
            "<class 'pandas.core.frame.DataFrame'>\n",
            "Int64Index: 41799 entries, 0 to 78805\n",
            "Data columns (total 16 columns):\n",
            " #   Column             Non-Null Count  Dtype         \n",
            "---  ------             --------------  -----         \n",
            " 0   id                 41799 non-null  int64         \n",
            " 1   type               41799 non-null  object        \n",
            " 2   sub_type           41799 non-null  object        \n",
            " 3   start_date         41799 non-null  datetime64[ns]\n",
            " 4   end_date           24065 non-null  datetime64[ns]\n",
            " 5   listing_type       41799 non-null  int64         \n",
            " 6   tom                41799 non-null  int64         \n",
            " 7   building_age       40916 non-null  object        \n",
            " 8   total_floor_count  41799 non-null  int64         \n",
            " 9   floor_no           41799 non-null  int64         \n",
            " 10  room_count         41799 non-null  object        \n",
            " 11  size               41799 non-null  float64       \n",
            " 12  address            41799 non-null  object        \n",
            " 13  heating_type       41799 non-null  int64         \n",
            " 14  price              41799 non-null  float64       \n",
            " 15  price_currency     41799 non-null  int64         \n",
            "dtypes: datetime64[ns](2), float64(2), int64(7), object(5)\n",
            "memory usage: 5.4+ MB\n"
          ]
        }
      ]
    },
    {
      "cell_type": "markdown",
      "source": [
        "Переходим к столбцу type"
      ],
      "metadata": {
        "id": "VRt4PIbCh7k1"
      }
    },
    {
      "cell_type": "code",
      "source": [
        "df_new[\"type\"].value_counts()"
      ],
      "metadata": {
        "colab": {
          "base_uri": "https://localhost:8080/"
        },
        "id": "p7VD7xT7iB29",
        "outputId": "e4e43cfa-3e1a-44aa-b587-6345b038e18a"
      },
      "execution_count": 57,
      "outputs": [
        {
          "output_type": "execute_result",
          "data": {
            "text/plain": [
              "Konut    41799\n",
              "Name: type, dtype: int64"
            ]
          },
          "metadata": {},
          "execution_count": 57
        }
      ]
    },
    {
      "cell_type": "markdown",
      "source": [
        "Так как в столбце type лишь одно уникальное значение, мы его можем удалить из данных"
      ],
      "metadata": {
        "id": "DHPLxhyRiJwe"
      }
    },
    {
      "cell_type": "code",
      "source": [
        "df_new.drop(\"type\", axis = 1, inplace = True)"
      ],
      "metadata": {
        "id": "Ex_izhWviOU8"
      },
      "execution_count": 58,
      "outputs": []
    },
    {
      "cell_type": "markdown",
      "source": [
        "Переходим к столбцу sub_type"
      ],
      "metadata": {
        "id": "cuWES2ggiYs_"
      }
    },
    {
      "cell_type": "code",
      "source": [
        "df_new[\"sub_type\"].value_counts()"
      ],
      "metadata": {
        "colab": {
          "base_uri": "https://localhost:8080/"
        },
        "id": "mpyHCJmnicdc",
        "outputId": "89ef868b-03e1-46aa-e269-dacdadf5fe59"
      },
      "execution_count": 59,
      "outputs": [
        {
          "output_type": "execute_result",
          "data": {
            "text/plain": [
              "Daire                  35215\n",
              "Villa                   3002\n",
              "Yazlık                  1633\n",
              "Müstakil Ev              985\n",
              "Rezidans                 714\n",
              "Prefabrik Ev             117\n",
              "Komple Bina               91\n",
              "Çiftlik Evi               21\n",
              "Yalı Dairesi              13\n",
              "Loft                       4\n",
              "Kooperatif                 3\n",
              "Köşk / Konak / Yalı        1\n",
              "Name: sub_type, dtype: int64"
            ]
          },
          "metadata": {},
          "execution_count": 59
        }
      ]
    },
    {
      "cell_type": "markdown",
      "source": [
        "Закодируем переменную с помощью кодировщика"
      ],
      "metadata": {
        "id": "PaZjXYztilsb"
      }
    },
    {
      "cell_type": "code",
      "source": [
        "df_new[\"sub_type\"] = le.fit_transform(df_new[\"sub_type\"]) # кодируем переменное"
      ],
      "metadata": {
        "id": "hOMO2Orwir3v"
      },
      "execution_count": 60,
      "outputs": []
    },
    {
      "cell_type": "code",
      "source": [
        "df_new[\"sub_type\"].value_counts()"
      ],
      "metadata": {
        "colab": {
          "base_uri": "https://localhost:8080/"
        },
        "id": "0eV2ICVkiwZe",
        "outputId": "10e94d8c-ae6d-43ab-d8f4-4e1edd82730f"
      },
      "execution_count": 61,
      "outputs": [
        {
          "output_type": "execute_result",
          "data": {
            "text/plain": [
              "0     35215\n",
              "8      3002\n",
              "10     1633\n",
              "5       985\n",
              "7       714\n",
              "6       117\n",
              "1        91\n",
              "11       21\n",
              "9        13\n",
              "4         4\n",
              "2         3\n",
              "3         1\n",
              "Name: sub_type, dtype: int64"
            ]
          },
          "metadata": {},
          "execution_count": 61
        }
      ]
    },
    {
      "cell_type": "markdown",
      "source": [
        "Переходим к признаку listing_type\n",
        "\n",
        "Смотрим на распределение по уникальным"
      ],
      "metadata": {
        "id": "8ScDIOnIi4_-"
      }
    },
    {
      "cell_type": "code",
      "source": [
        "df_new[\"listing_type\"].value_counts()"
      ],
      "metadata": {
        "colab": {
          "base_uri": "https://localhost:8080/"
        },
        "id": "a5tJ6JDwi8_J",
        "outputId": "cc7c4684-828b-4c8a-e42c-a850f07248fb"
      },
      "execution_count": 62,
      "outputs": [
        {
          "output_type": "execute_result",
          "data": {
            "text/plain": [
              "1    31836\n",
              "2     9721\n",
              "3      242\n",
              "Name: listing_type, dtype: int64"
            ]
          },
          "metadata": {},
          "execution_count": 62
        }
      ]
    },
    {
      "cell_type": "markdown",
      "source": [
        "Исходя из того, что есть 3 уникальных значения мы оставляем этот столбец\n",
        "\n",
        "Переходим к признаку tom\n",
        "\n",
        "Смотрим на распределение по уникальным"
      ],
      "metadata": {
        "id": "yLmCAmfsjFb-"
      }
    },
    {
      "cell_type": "code",
      "source": [
        "df_new[\"tom\"].value_counts()"
      ],
      "metadata": {
        "colab": {
          "base_uri": "https://localhost:8080/"
        },
        "id": "53dqmm48jJ_t",
        "outputId": "067efbc2-8360-4438-f539-491caab1a796"
      },
      "execution_count": 63,
      "outputs": [
        {
          "output_type": "execute_result",
          "data": {
            "text/plain": [
              "30     8293\n",
              "60     2280\n",
              "0      1108\n",
              "90      931\n",
              "14      760\n",
              "       ... \n",
              "164       8\n",
              "176       6\n",
              "173       6\n",
              "171       4\n",
              "178       2\n",
              "Name: tom, Length: 181, dtype: int64"
            ]
          },
          "metadata": {},
          "execution_count": 63
        }
      ]
    },
    {
      "cell_type": "markdown",
      "source": [
        "Исходя из того, что есть 181 уникальных значения мы оставляем этот столбец\n",
        "\n",
        "Переходим к признаку room_count\n",
        "\n",
        "Смотрим на распределение по уникальным"
      ],
      "metadata": {
        "id": "944hHuRtjTdl"
      }
    },
    {
      "cell_type": "code",
      "source": [
        "df_new[\"room_count\"].value_counts()"
      ],
      "metadata": {
        "colab": {
          "base_uri": "https://localhost:8080/"
        },
        "id": "hKtg5NQzjXiK",
        "outputId": "7f781fb4-2c3c-4a39-8762-a279b73960bd"
      },
      "execution_count": 64,
      "outputs": [
        {
          "output_type": "execute_result",
          "data": {
            "text/plain": [
              "2+1     18730\n",
              "3+1     17624\n",
              "4+1      2602\n",
              "1+1      1915\n",
              "5+1       311\n",
              "4+2       192\n",
              "3+2       168\n",
              "+          77\n",
              "2+2        68\n",
              "1+0        31\n",
              "6+1        26\n",
              "5+2        25\n",
              "6+2        11\n",
              "7+1         4\n",
              "8+2         3\n",
              "10+0        3\n",
              "7+2         2\n",
              "5+3         2\n",
              "6+3         1\n",
              "7+3         1\n",
              "4+3         1\n",
              "9+5         1\n",
              "8+1         1\n",
              "Name: room_count, dtype: int64"
            ]
          },
          "metadata": {},
          "execution_count": 64
        }
      ]
    },
    {
      "cell_type": "code",
      "source": [
        "ind = df_new[df_new[\"room_count\"] == \"+\"].index # удалим строки с непонятными значениями \"+\""
      ],
      "metadata": {
        "id": "AzA8TUiAjls1"
      },
      "execution_count": 65,
      "outputs": []
    },
    {
      "cell_type": "code",
      "source": [
        "ind"
      ],
      "metadata": {
        "colab": {
          "base_uri": "https://localhost:8080/"
        },
        "id": "bGD4F4VyjrMq",
        "outputId": "dfee4b27-7e90-46c4-e717-ed6fdd8f84d2"
      },
      "execution_count": 66,
      "outputs": [
        {
          "output_type": "execute_result",
          "data": {
            "text/plain": [
              "Int64Index([  621,   693,   701,   751,   845,  1055,  1085,  1235,  1295,\n",
              "             1319,  1449,  1467,  1543,  1693,  5515,  6715,  6855,  7061,\n",
              "             7107,  7115,  7133,  7231,  7239,  7285,  7333,  7381,  7437,\n",
              "             7509,  7563,  7575,  7589,  7591,  7691,  7969,  7975,  8047,\n",
              "             8049,  8057,  8083, 17593, 17619, 17631, 17649, 17663, 17733,\n",
              "            17737, 21375, 22515, 24849, 25077, 26841, 27709, 27737, 28177,\n",
              "            28571, 28747, 28971, 29031, 29189, 30087, 30403, 30667, 31243,\n",
              "            31367, 31927, 32055, 32115, 32249, 32347, 32615, 33123, 33313,\n",
              "            33505, 33887, 34633, 50242, 72586],\n",
              "           dtype='int64')"
            ]
          },
          "metadata": {},
          "execution_count": 66
        }
      ]
    },
    {
      "cell_type": "code",
      "source": [
        "df_new.drop(ind, inplace = True)"
      ],
      "metadata": {
        "id": "XcGYHmTsjzTR"
      },
      "execution_count": 67,
      "outputs": []
    },
    {
      "cell_type": "code",
      "source": [
        "df_new.shape"
      ],
      "metadata": {
        "colab": {
          "base_uri": "https://localhost:8080/"
        },
        "id": "oXmrB6Y3j7Kz",
        "outputId": "dbb2eb87-9049-440c-e909-15b69dc975cd"
      },
      "execution_count": 68,
      "outputs": [
        {
          "output_type": "execute_result",
          "data": {
            "text/plain": [
              "(41722, 15)"
            ]
          },
          "metadata": {},
          "execution_count": 68
        }
      ]
    },
    {
      "cell_type": "code",
      "source": [
        "df_new[\"room_count\"].value_counts()"
      ],
      "metadata": {
        "colab": {
          "base_uri": "https://localhost:8080/"
        },
        "id": "K-kAGtlikAKG",
        "outputId": "2701d91e-7669-4a95-d9f7-fe4ebce67b0d"
      },
      "execution_count": 69,
      "outputs": [
        {
          "output_type": "execute_result",
          "data": {
            "text/plain": [
              "2+1     18730\n",
              "3+1     17624\n",
              "4+1      2602\n",
              "1+1      1915\n",
              "5+1       311\n",
              "4+2       192\n",
              "3+2       168\n",
              "2+2        68\n",
              "1+0        31\n",
              "6+1        26\n",
              "5+2        25\n",
              "6+2        11\n",
              "7+1         4\n",
              "10+0        3\n",
              "8+2         3\n",
              "7+2         2\n",
              "5+3         2\n",
              "6+3         1\n",
              "7+3         1\n",
              "4+3         1\n",
              "9+5         1\n",
              "8+1         1\n",
              "Name: room_count, dtype: int64"
            ]
          },
          "metadata": {},
          "execution_count": 69
        }
      ]
    },
    {
      "cell_type": "code",
      "source": [
        "df_new[\"room_count\"] = le.fit_transform(df_new[\"room_count\"])"
      ],
      "metadata": {
        "id": "AIFWeuSSkIOD"
      },
      "execution_count": 70,
      "outputs": []
    },
    {
      "cell_type": "markdown",
      "source": [
        "Закодировали этот признак с помощью Кодировщика\n",
        "\n",
        "Удалим признак id"
      ],
      "metadata": {
        "id": "ire3ahaYkMaf"
      }
    },
    {
      "cell_type": "code",
      "source": [
        "df_new[\"id\"]"
      ],
      "metadata": {
        "colab": {
          "base_uri": "https://localhost:8080/"
        },
        "id": "b4MsD6d7kQBf",
        "outputId": "75b7d959-20e4-4e33-8c6c-ff59cd88fbaf"
      },
      "execution_count": 71,
      "outputs": [
        {
          "output_type": "execute_result",
          "data": {
            "text/plain": [
              "0            1\n",
              "4            5\n",
              "6            7\n",
              "8            9\n",
              "10          11\n",
              "         ...  \n",
              "78800    78801\n",
              "78801    78802\n",
              "78802    78803\n",
              "78803    78804\n",
              "78805    78806\n",
              "Name: id, Length: 41722, dtype: int64"
            ]
          },
          "metadata": {},
          "execution_count": 71
        }
      ]
    },
    {
      "cell_type": "code",
      "source": [
        "df_new.drop(\"id\", axis = 1, inplace = True)"
      ],
      "metadata": {
        "id": "KqlbnFs6kYHT"
      },
      "execution_count": 72,
      "outputs": []
    },
    {
      "cell_type": "markdown",
      "source": [
        "Переходим к признаку adress"
      ],
      "metadata": {
        "id": "EM2Xj7f0kcqG"
      }
    },
    {
      "cell_type": "code",
      "source": [
        "df_new[\"address\"].value_counts()"
      ],
      "metadata": {
        "colab": {
          "base_uri": "https://localhost:8080/"
        },
        "id": "Hrev2MCjkgVh",
        "outputId": "924cd0df-2fdb-46ea-83cd-f77fdc1b2d72"
      },
      "execution_count": 73,
      "outputs": [
        {
          "output_type": "execute_result",
          "data": {
            "text/plain": [
              "Aydın/Didim/Efeler                 1487\n",
              "Balıkesir/Edremit/Akçay             798\n",
              "Aydın/Didim/Altınkum                798\n",
              "Aydın/Didim/Çamlık                  724\n",
              "Aydın/Didim/Hisar                   640\n",
              "                                   ... \n",
              "Samsun/Atakum/Balaç                   1\n",
              "İstanbul/Arnavutköy/Atatürk           1\n",
              "Adana/Seyhan/Küçükdikili              1\n",
              "İstanbul/Eyüpsultan/Akşemsettin       1\n",
              "Düzce/Merkez/Darıcı                   1\n",
              "Name: address, Length: 3212, dtype: int64"
            ]
          },
          "metadata": {},
          "execution_count": 73
        }
      ]
    },
    {
      "cell_type": "markdown",
      "source": [
        "В столбце слишком много уникальных значений, что привнесет шум в нашу модель и данные. Необходимо удалить этот столбец"
      ],
      "metadata": {
        "id": "U58o7EIfkmoE"
      }
    },
    {
      "cell_type": "code",
      "source": [
        "df_new.drop(\"address\", axis = 1, inplace = True)"
      ],
      "metadata": {
        "id": "BW9HuSzPkr42"
      },
      "execution_count": 74,
      "outputs": []
    },
    {
      "cell_type": "markdown",
      "source": [
        "Прелобработка данных завершена."
      ],
      "metadata": {
        "id": "e80HJ7qmkyEZ"
      }
    }
  ]
}