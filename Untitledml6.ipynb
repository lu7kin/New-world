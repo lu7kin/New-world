{
  "nbformat": 4,
  "nbformat_minor": 0,
  "metadata": {
    "colab": {
      "name": "Untitledml6.ipynb",
      "provenance": [],
      "collapsed_sections": [],
      "authorship_tag": "ABX9TyNq4BoqG/GmVBx3PDobr/DX",
      "include_colab_link": true
    },
    "kernelspec": {
      "name": "python3",
      "display_name": "Python 3"
    },
    "language_info": {
      "name": "python"
    }
  },
  "cells": [
    {
      "cell_type": "markdown",
      "metadata": {
        "id": "view-in-github",
        "colab_type": "text"
      },
      "source": [
        "<a href=\"https://colab.research.google.com/github/lu7kin/New-world/blob/main/Untitledml6.ipynb\" target=\"_parent\"><img src=\"https://colab.research.google.com/assets/colab-badge.svg\" alt=\"Open In Colab\"/></a>"
      ]
    },
    {
      "cell_type": "code",
      "source": [
        "'''Работа с EXCEL'''\n",
        "import pandas as pd"
      ],
      "metadata": {
        "id": "BlXIr7pvnvD4"
      },
      "execution_count": 1,
      "outputs": []
    },
    {
      "cell_type": "code",
      "execution_count": 2,
      "metadata": {
        "id": "TedZJp9YwUSw"
      },
      "outputs": [],
      "source": [
        "exl=pd.read_excel('') # ссылка на файл, чтение таблицы"
      ]
    },
    {
      "cell_type": "code",
      "source": [
        "exl=pd.read_excel('',header=None) # отказ от заголовков"
      ],
      "metadata": {
        "id": "MeTwZfd_p13_"
      },
      "execution_count": null,
      "outputs": []
    },
    {
      "cell_type": "code",
      "source": [
        "exl=exl.drop(index=[0])  # удаление строки 0 - индекс строки"
      ],
      "metadata": {
        "id": "XC73ANz40ny8"
      },
      "execution_count": null,
      "outputs": []
    },
    {
      "cell_type": "code",
      "source": [
        "exl=exl.rename(columns=exl.iloc[0]) # переименование строк"
      ],
      "metadata": {
        "id": "-uCgjNiBamPU"
      },
      "execution_count": null,
      "outputs": []
    },
    {
      "cell_type": "code",
      "source": [
        "cols = [0, 1, 3]\n",
        "exl=pd.read_excel('/content/new.xlsx', header=None, usecols=cols) # оставляем нужные колонки"
      ],
      "metadata": {
        "id": "wMRUqwEA07fH"
      },
      "execution_count": null,
      "outputs": []
    },
    {
      "cell_type": "code",
      "source": [
        ""
      ],
      "metadata": {
        "id": "WxXFaHtfon98"
      },
      "execution_count": null,
      "outputs": []
    }
  ]
}