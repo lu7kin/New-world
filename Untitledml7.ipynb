{
  "nbformat": 4,
  "nbformat_minor": 0,
  "metadata": {
    "colab": {
      "name": "Untitledml7.ipynb",
      "provenance": [],
      "authorship_tag": "ABX9TyP6+06qjpdzFJRiXgCQAdZ8",
      "include_colab_link": true
    },
    "kernelspec": {
      "name": "python3",
      "display_name": "Python 3"
    },
    "language_info": {
      "name": "python"
    }
  },
  "cells": [
    {
      "cell_type": "markdown",
      "metadata": {
        "id": "view-in-github",
        "colab_type": "text"
      },
      "source": [
        "<a href=\"https://colab.research.google.com/github/lu7kin/New-world/blob/main/Untitledml7.ipynb\" target=\"_parent\"><img src=\"https://colab.research.google.com/assets/colab-badge.svg\" alt=\"Open In Colab\"/></a>"
      ]
    },
    {
      "cell_type": "code",
      "execution_count": null,
      "metadata": {
        "id": "z8bsPbuYsFs-"
      },
      "outputs": [],
      "source": [
        "'''Чтение HTML'''"
      ]
    },
    {
      "cell_type": "code",
      "source": [
        "import pandas as pd\n",
        "read_html() #чтение\n",
        "to_html() #запись"
      ],
      "metadata": {
        "id": "4cGIHFf6sawp"
      },
      "execution_count": null,
      "outputs": []
    },
    {
      "cell_type": "code",
      "source": [
        "import pandas as pd\n",
        "res=pd.read_html('https://worldtable.info/istorija/hronologicheskaja-tablica-pravitelei-rossii.html')\n",
        "res"
      ],
      "metadata": {
        "colab": {
          "base_uri": "https://localhost:8080/"
        },
        "id": "oW3EuI4Is2vj",
        "outputId": "b8b4a6f0-5093-412e-c922-33ae4e52dfa0"
      },
      "execution_count": 3,
      "outputs": [
        {
          "output_type": "execute_result",
          "data": {
            "text/plain": [
              "[                                               0                                                 1\n",
              " 0                                      Правитель                                    Годы правления\n",
              " 1                     Рюрик (Князь Новгородский)                                         862 - 879\n",
              " 2                Вещий Олег (Князь Новгородский)                                         879 - 912\n",
              " 3            Вещий Олег (Великий князь Киевский)                                         882 - 912\n",
              " 4       Игорь Рюрикович (Великий князь Киевский)                                   912 - осень 945\n",
              " ..                                           ...                                               ...\n",
              " 130   Горбачёв Михаил Сергеевич (Президент СССР)                   15 марта 1990 — 25 декабря 1991\n",
              " 131       Ельцин Борис Николаевич (Президент РФ)                    10 июля 1991 — 31 декабря 1999\n",
              " 132   Путин Владимир Владимирович (Президент РФ)  31 декабря 1999, до 7 мая 2000 и.о. — 7 мая 2008\n",
              " 133  Медведев Дмитрий Анатольевич (Президент РФ)                           7 мая 2008 — 7 мая 2012\n",
              " 134   Путин Владимир Владимирович (Президент РФ)                      7 мая 2012 — настоящее время\n",
              " \n",
              " [135 rows x 2 columns]]"
            ]
          },
          "metadata": {},
          "execution_count": 3
        }
      ]
    },
    {
      "cell_type": "code",
      "source": [
        ""
      ],
      "metadata": {
        "id": "9_STTzp6s23P"
      },
      "execution_count": 10,
      "outputs": []
    },
    {
      "cell_type": "code",
      "source": [
        ""
      ],
      "metadata": {
        "id": "mrjErTTbOse5"
      },
      "execution_count": 10,
      "outputs": []
    }
  ]
}