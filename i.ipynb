{
  "nbformat": 4,
  "nbformat_minor": 0,
  "metadata": {
    "colab": {
      "provenance": [],
      "authorship_tag": "ABX9TyNKCLQ98OrKjUwwHfY7jorL",
      "include_colab_link": true
    },
    "kernelspec": {
      "name": "python3",
      "display_name": "Python 3"
    },
    "language_info": {
      "name": "python"
    }
  },
  "cells": [
    {
      "cell_type": "markdown",
      "metadata": {
        "id": "view-in-github",
        "colab_type": "text"
      },
      "source": [
        "<a href=\"https://colab.research.google.com/github/lu7kin/New-world/blob/main/i.ipynb\" target=\"_parent\"><img src=\"https://colab.research.google.com/assets/colab-badge.svg\" alt=\"Open In Colab\"/></a>"
      ]
    },
    {
      "cell_type": "code",
      "execution_count": 64,
      "metadata": {
        "id": "DpLbHF1ooSA5"
      },
      "outputs": [],
      "source": [
        "import pandas as pd"
      ]
    },
    {
      "cell_type": "markdown",
      "source": [
        "Панды будут обрабатывать наши данные."
      ],
      "metadata": {
        "id": "wICrsJ69ocw4"
      }
    },
    {
      "cell_type": "code",
      "source": [
        "df = pd.read_excel('/content/i.xlsx')"
      ],
      "metadata": {
        "id": "1uNs4vXMolZQ"
      },
      "execution_count": 65,
      "outputs": []
    },
    {
      "cell_type": "markdown",
      "source": [
        "Подгружаем таблицу с данными в директорию."
      ],
      "metadata": {
        "id": "vBF2twrjo7a2"
      }
    },
    {
      "cell_type": "code",
      "source": [
        "print(df)"
      ],
      "metadata": {
        "colab": {
          "base_uri": "https://localhost:8080/"
        },
        "id": "R3qGbMIUpEV_",
        "outputId": "7ee66f58-b140-4fe1-f19d-de359c5ff7f2"
      },
      "execution_count": 66,
      "outputs": [
        {
          "output_type": "stream",
          "name": "stdout",
          "text": [
            "         date  litr\n",
            "0  2023-08-02    40\n",
            "1  2023-08-03    40\n",
            "2  2023-08-04    40\n",
            "3  2023-08-07    40\n",
            "4  2023-08-08    40\n",
            "5  2023-08-09    40\n",
            "6  2023-08-10    40\n",
            "7  2023-08-11    30\n",
            "8  2023-08-14    40\n",
            "9  2023-08-15    40\n",
            "10 2023-08-16    40\n",
            "11 2023-08-17    40\n",
            "12 2023-08-18    40\n",
            "13 2023-08-21    40\n",
            "14 2023-08-22    40\n",
            "15 2023-08-23    40\n",
            "16 2023-08-24    40\n",
            "17 2023-08-25    40\n",
            "18 2023-08-28    40\n",
            "19 2023-08-29    40\n",
            "20 2023-08-30    40\n",
            "21 2023-08-31    40\n"
          ]
        }
      ]
    },
    {
      "cell_type": "code",
      "source": [
        "df.boxplot(column=['litr'], grid= False , color='black')"
      ],
      "metadata": {
        "colab": {
          "base_uri": "https://localhost:8080/",
          "height": 448
        },
        "id": "OFz79JqN7D2T",
        "outputId": "81be1c4e-cdf8-4a6a-a7ae-7577dec070c6"
      },
      "execution_count": 74,
      "outputs": [
        {
          "output_type": "execute_result",
          "data": {
            "text/plain": [
              "<Axes: >"
            ]
          },
          "metadata": {},
          "execution_count": 74
        },
        {
          "output_type": "display_data",
          "data": {
            "text/plain": [
              "<Figure size 640x480 with 1 Axes>"
            ],
            "image/png": "[encoded data removed]"
          },
          "metadata": {}
        }
      ]
    },
    {
      "cell_type": "markdown",
      "source": [
        "На диаграмме точка о - выброс или, другими словами, отклонение от среднего значения."
      ],
      "metadata": {
        "id": "QvtP6yHH8QJF"
      }
    }
  ]
}