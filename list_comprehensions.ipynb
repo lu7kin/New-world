{
  "nbformat": 4,
  "nbformat_minor": 0,
  "metadata": {
    "colab": {
      "name": "list_comprehensions",
      "provenance": [],
      "authorship_tag": "ABX9TyPYG5yxTQEFF5l9DGMyc5Hz",
      "include_colab_link": true
    },
    "kernelspec": {
      "name": "python3",
      "display_name": "Python 3"
    },
    "language_info": {
      "name": "python"
    }
  },
  "cells": [
    {
      "cell_type": "markdown",
      "metadata": {
        "id": "view-in-github",
        "colab_type": "text"
      },
      "source": [
        "<a href=\"https://colab.research.google.com/github/lu7kin/New-world/blob/main/list_comprehensions.ipynb\" target=\"_parent\"><img src=\"https://colab.research.google.com/assets/colab-badge.svg\" alt=\"Open In Colab\"/></a>"
      ]
    },
    {
      "cell_type": "code",
      "execution_count": 1,
      "metadata": {
        "colab": {
          "base_uri": "https://localhost:8080/"
        },
        "id": "-z0CsIgl4aUC",
        "outputId": "b7a00654-4484-48e9-8029-9492d8b8beac"
      },
      "outputs": [
        {
          "output_type": "execute_result",
          "data": {
            "text/plain": [
              "[1, 2, 3, 4, 5]"
            ]
          },
          "metadata": {},
          "execution_count": 1
        }
      ],
      "source": [
        "a=[1,2,3,4,5]\n",
        "a"
      ]
    },
    {
      "cell_type": "markdown",
      "source": [
        "итерация по циклам"
      ],
      "metadata": {
        "id": "s7mMPrTF8xX7"
      }
    },
    {
      "cell_type": "code",
      "source": [
        "a=[x for x in range(1,6)]\n",
        "a"
      ],
      "metadata": {
        "colab": {
          "base_uri": "https://localhost:8080/"
        },
        "id": "TaH3v9ib5BmG",
        "outputId": "cc8e4090-2788-4fc5-d3c2-fc9671ef7156"
      },
      "execution_count": 3,
      "outputs": [
        {
          "output_type": "execute_result",
          "data": {
            "text/plain": [
              "[1, 2, 3, 4, 5]"
            ]
          },
          "metadata": {},
          "execution_count": 3
        }
      ]
    },
    {
      "cell_type": "code",
      "source": [
        "def f(x):\n",
        "    return x ** 2"
      ],
      "metadata": {
        "id": "ak8o_Fow5Z-M"
      },
      "execution_count": 4,
      "outputs": []
    },
    {
      "cell_type": "code",
      "source": [
        "b=[f(x) for x in range(1,10)]\n",
        "c=[x**2 for x in range(1,10)]\n",
        "print(b, '=', c)\n",
        "print(b==c)"
      ],
      "metadata": {
        "colab": {
          "base_uri": "https://localhost:8080/"
        },
        "id": "IXdgsAZu6gl_",
        "outputId": "e57d7fac-ee2b-4f0d-a792-b7a7995c8584"
      },
      "execution_count": 8,
      "outputs": [
        {
          "output_type": "stream",
          "name": "stdout",
          "text": [
            "[1, 4, 9, 16, 25, 36, 49, 64, 81] = [1, 4, 9, 16, 25, 36, 49, 64, 81]\n",
            "True\n"
          ]
        }
      ]
    },
    {
      "cell_type": "markdown",
      "source": [
        "условная логика"
      ],
      "metadata": {
        "id": "QWNAH6128lfo"
      }
    },
    {
      "cell_type": "markdown",
      "source": [
        ""
      ],
      "metadata": {
        "id": "zRej-pE7AcRw"
      }
    },
    {
      "cell_type": "markdown",
      "source": [
        ""
      ],
      "metadata": {
        "id": "W9Dxd1YaApd-"
      }
    },
    {
      "cell_type": "markdown",
      "source": [
        ""
      ],
      "metadata": {
        "id": "d4HecVc5Arne"
      }
    },
    {
      "cell_type": "code",
      "source": [
        "[x if x in 'aeiou' else '*' for x in 'apple']"
      ],
      "metadata": {
        "colab": {
          "base_uri": "https://localhost:8080/"
        },
        "id": "h72daoiK86I2",
        "outputId": "73cd140c-a32d-4711-fbd4-94a36850dfcd"
      },
      "execution_count": 9,
      "outputs": [
        {
          "output_type": "execute_result",
          "data": {
            "text/plain": [
              "['a', '*', '*', '*', 'e']"
            ]
          },
          "metadata": {},
          "execution_count": 9
        }
      ]
    },
    {
      "cell_type": "markdown",
      "source": [
        "лист вместо цикла"
      ],
      "metadata": {
        "id": "Nhr0C5c3A5-P"
      }
    },
    {
      "cell_type": "code",
      "source": [
        "l=[]\n",
        "for i in range(3):\n",
        "    for x in [i,i+1]:\n",
        "      l.append(str(x))\n",
        "    print(l)  "
      ],
      "metadata": {
        "id": "enEGH4NrBRMt",
        "outputId": "6fbe9ea1-b286-4abd-a4df-725aa92539a1",
        "colab": {
          "base_uri": "https://localhost:8080/"
        }
      },
      "execution_count": 14,
      "outputs": [
        {
          "output_type": "stream",
          "name": "stdout",
          "text": [
            "['0', '1']\n",
            "['0', '1', '1', '2']\n",
            "['0', '1', '1', '2', '2', '3']\n"
          ]
        }
      ]
    },
    {
      "cell_type": "code",
      "source": [
        "l=[str(x) for i in range(3) for x in (i,i+1)]\n",
        "l"
      ],
      "metadata": {
        "id": "BJwoLjqxERrf",
        "outputId": "ea770621-2e99-4151-c617-6c9fd3a3292f",
        "colab": {
          "base_uri": "https://localhost:8080/"
        }
      },
      "execution_count": 16,
      "outputs": [
        {
          "output_type": "execute_result",
          "data": {
            "text/plain": [
              "['0', '1', '1', '2', '2', '3']"
            ]
          },
          "metadata": {},
          "execution_count": 16
        }
      ]
    }
  ]
}