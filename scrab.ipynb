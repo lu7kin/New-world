{
  "nbformat": 4,
  "nbformat_minor": 0,
  "metadata": {
    "colab": {
      "name": "scrab.ipynb",
      "provenance": [],
      "collapsed_sections": [],
      "authorship_tag": "ABX9TyOE0quB+6ACao15RFQmCNl3",
      "include_colab_link": true
    },
    "kernelspec": {
      "name": "python3",
      "display_name": "Python 3"
    },
    "language_info": {
      "name": "python"
    }
  },
  "cells": [
    {
      "cell_type": "markdown",
      "metadata": {
        "id": "view-in-github",
        "colab_type": "text"
      },
      "source": [
        "<a href=\"https://colab.research.google.com/github/lu7kin/New-world/blob/main/scrab.ipynb\" target=\"_parent\"><img src=\"https://colab.research.google.com/assets/colab-badge.svg\" alt=\"Open In Colab\"/></a>"
      ]
    },
    {
      "cell_type": "code",
      "execution_count": 1,
      "metadata": {
        "id": "8c3okgr_KXZf"
      },
      "outputs": [],
      "source": [
        "import requests\n",
        "from bs4 import BeautifulSoup"
      ]
    },
    {
      "cell_type": "code",
      "source": [
        "URL='https://www.transfermarkt.ru/ligue-1/tabelle/wettbewerb/FR1/saison_id/2021'\n",
        "HEAD={'user-agent': 'Mozilla/5.0 (Windows NT 10.0; Win64; x64) AppleWebKit/537.36 (KHTML, like Gecko) Chrome/96.0.4664.93 Safari/537.36'}"
      ],
      "metadata": {
        "id": "xwyKb6kOPwMD"
      },
      "execution_count": 2,
      "outputs": []
    },
    {
      "cell_type": "code",
      "source": [
        "page=requests.get(URL, headers=HEAD, params=None)"
      ],
      "metadata": {
        "id": "aGU7moigYbCl"
      },
      "execution_count": 3,
      "outputs": []
    },
    {
      "cell_type": "code",
      "source": [
        "page.status_code"
      ],
      "metadata": {
        "colab": {
          "base_uri": "https://localhost:8080/"
        },
        "id": "aPVQWUNQZXsd",
        "outputId": "2907321a-df6d-4183-bdbc-86b05ec9bccc"
      },
      "execution_count": 4,
      "outputs": [
        {
          "output_type": "execute_result",
          "data": {
            "text/plain": [
              "200"
            ]
          },
          "metadata": {},
          "execution_count": 4
        }
      ]
    },
    {
      "cell_type": "code",
      "source": [
        "print(page.text)"
      ],
      "metadata": {
        "id": "GGaewS93ZzfQ"
      },
      "execution_count": null,
      "outputs": []
    },
    {
      "cell_type": "code",
      "source": [
        "soup=BeautifulSoup(page.text, 'html.parser')"
      ],
      "metadata": {
        "id": "DRcIljZvbSCG"
      },
      "execution_count": 6,
      "outputs": []
    },
    {
      "cell_type": "code",
      "source": [
        "item1=soup.find_all('div', class_=\"responsive-table\") \n",
        "item2=soup.find_all('div', class_=\"add\")                "
      ],
      "metadata": {
        "id": "PjnIwi4s5m_o"
      },
      "execution_count": 7,
      "outputs": []
    },
    {
      "cell_type": "code",
      "source": [
        "items=item1+item2\n",
        "print(items)"
      ],
      "metadata": {
        "id": "qQ0nlcr9G2VO"
      },
      "execution_count": null,
      "outputs": []
    },
    {
      "cell_type": "code",
      "source": [
        "team=[]\n",
        "for i in items:\n",
        "  team.append({\n",
        "      'rang':i.find('td',class_='zentrirt').get_text(strip=True),\n",
        "      'country':i.find('img',class_='flaggenrahmen').get('titl'),\n",
        "      'cost':i.find('td',class_='rechts').get_text()\n",
        "  })"
      ],
      "metadata": {
        "id": "R2hnc8wCe3lY"
      },
      "execution_count": null,
      "outputs": []
    },
    {
      "cell_type": "markdown",
      "source": [
        ""
      ],
      "metadata": {
        "id": "k_ilDMi-2BDX"
      }
    },
    {
      "cell_type": "markdown",
      "source": [
        "Парсинг по страницам"
      ],
      "metadata": {
        "id": "ARB7IjYA2Nqz"
      }
    },
    {
      "cell_type": "code",
      "source": [
        "pagecount=soup.find_all('il', class_='pager')\n",
        "pagecount=pagecount.int['-1'].get('data-id')\n",
        "print(pagecount)"
      ],
      "metadata": {
        "id": "XjzCqxGf2XRg"
      },
      "execution_count": null,
      "outputs": []
    },
    {
      "cell_type": "code",
      "source": [
        "teamAll=[]\n",
        "teamNew=[]\n",
        "for pg in range(1,pagecount+1):\n",
        "  print(pg)\n",
        "  p=pagecount.get(URL, headers=HEAD, params={'page':pg})\n",
        "  sp=BeautifulSoup(p.text, 'html.parser')\n",
        "  it=sp.find_all('tr', class_='ewen')\n",
        "  for j in it:\n",
        "    teamNew.append({\n",
        "        'rang':i.find('td',class_='zentrirt').get_text(strip=True),\n",
        "        'country':i.find('img',class_='flaggenrahmen').get('titl'),\n",
        "        'cost':i.find('td',class_='rechts').get_text()\n",
        "    })\n",
        "    teamAll.extend(teamNew)\n",
        "    print(len(teamNew))\n",
        "\n"
      ],
      "metadata": {
        "id": "rqmuZPpG8A2U"
      },
      "execution_count": null,
      "outputs": []
    },
    {
      "cell_type": "markdown",
      "source": [
        "Сохранение данных на диске"
      ],
      "metadata": {
        "id": "65upBLUDB5jn"
      }
    },
    {
      "cell_type": "code",
      "source": [
        "from google.colab import files\n",
        "import csv"
      ],
      "metadata": {
        "id": "z1bbipjcCAmo"
      },
      "execution_count": null,
      "outputs": []
    },
    {
      "cell_type": "code",
      "source": [
        "file=open('team.csv','v')\n",
        "wr=csv.writer(file,delimiter=';')\n",
        "wr.writerow('range','country','cost')\n",
        "for t in teamAll:\n",
        "  wr=wr.writerow(t['range'],t['country'],t['cost'])\n",
        "files.download('team.csv')"
      ],
      "metadata": {
        "id": "vjZFsmFqVb7k"
      },
      "execution_count": null,
      "outputs": []
    }
  ]
}