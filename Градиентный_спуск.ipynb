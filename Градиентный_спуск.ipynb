{
  "nbformat": 4,
  "nbformat_minor": 0,
  "metadata": {
    "colab": {
      "provenance": [],
      "authorship_tag": "ABX9TyOrvX6iMmQBbM/tWBrt4/38",
      "include_colab_link": true
    },
    "kernelspec": {
      "name": "python3",
      "display_name": "Python 3"
    },
    "language_info": {
      "name": "python"
    }
  },
  "cells": [
    {
      "cell_type": "markdown",
      "metadata": {
        "id": "view-in-github",
        "colab_type": "text"
      },
      "source": [
        "<a href=\"https://colab.research.google.com/github/lu7kin/New-world/blob/main/%D0%93%D1%80%D0%B0%D0%B4%D0%B8%D0%B5%D0%BD%D1%82%D0%BD%D1%8B%D0%B9_%D1%81%D0%BF%D1%83%D1%81%D0%BA.ipynb\" target=\"_parent\"><img src=\"https://colab.research.google.com/assets/colab-badge.svg\" alt=\"Open In Colab\"/></a>"
      ]
    },
    {
      "cell_type": "code",
      "source": [
        "import time\n",
        "import numpy as np\n",
        "import matplotlib.pyplot as plt"
      ],
      "metadata": {
        "id": "YZDxMC-BERT6"
      },
      "execution_count": 15,
      "outputs": []
    },
    {
      "cell_type": "code",
      "source": [
        "def f(x):\n",
        "    return x*x - 5*x + 5"
      ],
      "metadata": {
        "id": "_zzSm4gPEhnp"
      },
      "execution_count": 16,
      "outputs": []
    },
    {
      "cell_type": "code",
      "source": [
        "def df(x):\n",
        "    return 2*x - 5"
      ],
      "metadata": {
        "id": "4NdbxYv7Enmd"
      },
      "execution_count": 17,
      "outputs": []
    },
    {
      "cell_type": "code",
      "source": [
        "N = 20     # число итераций\n",
        "xx = 0      # начальное значение\n",
        "lmd = 0.9  # шаг сходимости"
      ],
      "metadata": {
        "id": "qg1_rzNNEtEk"
      },
      "execution_count": 18,
      "outputs": []
    },
    {
      "cell_type": "code",
      "source": [
        "x_plt = np.arange(0, 5.0, 0.1)\n",
        "f_plt = [f(x) for x in x_plt]"
      ],
      "metadata": {
        "id": "UH_tseUaEyP3"
      },
      "execution_count": 19,
      "outputs": []
    },
    {
      "cell_type": "code",
      "source": [
        "ax.plot(x_plt, f_plt)                   # отображение параболы\n",
        "point = ax.scatter(xx, f(xx), c='red')  # отображение точки красным цветом"
      ],
      "metadata": {
        "id": "lOWeTR5TGhX7"
      },
      "execution_count": 29,
      "outputs": []
    },
    {
      "cell_type": "code",
      "source": [
        "for i in range(N):\n",
        "    xx = xx - lmd*df(xx)    # изменение аргумента на текущей итерации\n",
        "\n",
        "    point.set_offsets([xx, f(xx)])  # отображение нового положения точки\n",
        "\n",
        "    # перерисовка графика и задержка на 20 мс\n",
        "    fig.canvas.draw()\n",
        "    fig.canvas.flush_events()\n",
        "    time.sleep(0.02)\n",
        "\n",
        "plt.ioff()   # выключение интерактивного режима отображения графиков\n",
        "\n",
        "print(xx)\n",
        "ax.scatter(xx, f(xx), c='blue')\n",
        "plt.show()"
      ],
      "metadata": {
        "colab": {
          "base_uri": "https://localhost:8080/"
        },
        "id": "_xDGlkR9Gj_T",
        "outputId": "96896231-6827-469b-aabb-ca9d6f7fb767"
      },
      "execution_count": 31,
      "outputs": [
        {
          "output_type": "stream",
          "name": "stdout",
          "text": [
            "2.4999999558288235\n"
          ]
        }
      ]
    }
  ]
}