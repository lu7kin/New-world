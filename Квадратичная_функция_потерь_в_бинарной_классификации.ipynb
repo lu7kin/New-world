{
  "nbformat": 4,
  "nbformat_minor": 0,
  "metadata": {
    "colab": {
      "provenance": [],
      "authorship_tag": "ABX9TyMWyoSXJCnvhhs08R98NOJH",
      "include_colab_link": true
    },
    "kernelspec": {
      "name": "python3",
      "display_name": "Python 3"
    },
    "language_info": {
      "name": "python"
    }
  },
  "cells": [
    {
      "cell_type": "markdown",
      "metadata": {
        "id": "view-in-github",
        "colab_type": "text"
      },
      "source": [
        "<a href=\"https://colab.research.google.com/github/lu7kin/New-world/blob/main/%D0%9A%D0%B2%D0%B0%D0%B4%D1%80%D0%B0%D1%82%D0%B8%D1%87%D0%BD%D0%B0%D1%8F_%D1%84%D1%83%D0%BD%D0%BA%D1%86%D0%B8%D1%8F_%D0%BF%D0%BE%D1%82%D0%B5%D1%80%D1%8C_%D0%B2_%D0%B1%D0%B8%D0%BD%D0%B0%D1%80%D0%BD%D0%BE%D0%B9_%D0%BA%D0%BB%D0%B0%D1%81%D1%81%D0%B8%D1%84%D0%B8%D0%BA%D0%B0%D1%86%D0%B8%D0%B8.ipynb\" target=\"_parent\"><img src=\"https://colab.research.google.com/assets/colab-badge.svg\" alt=\"Open In Colab\"/></a>"
      ]
    },
    {
      "cell_type": "code",
      "source": [
        "import numpy as np\n",
        "import matplotlib.pyplot as plt"
      ],
      "metadata": {
        "id": "oFfmjxQLuhUY"
      },
      "execution_count": 1,
      "outputs": []
    },
    {
      "cell_type": "markdown",
      "source": [
        "подгружаем библиотеки"
      ],
      "metadata": {
        "id": "L4vs1dYPBT-x"
      }
    },
    {
      "cell_type": "code",
      "source": [
        "x_train = [[10, 50], [20, 30], [25, 30], [20, 60], [15, 70], [40, 40], [30, 45], [20, 45], [40, 30], [7, 35]]\n",
        "x_train = [x + [1] for x in x_train]\n",
        "x_train = np.array(x_train)\n",
        "y_train = np.array([-1, 1, 1, -1, -1, 1, 1, -1, 1, -1])"
      ],
      "metadata": {
        "id": "DoAlaDcawZFT"
      },
      "execution_count": 3,
      "outputs": []
    },
    {
      "cell_type": "markdown",
      "source": [
        "Двумерные векторы превращаем в трехмерные путем прибавления 1; затем преобразуем двумерный список в массив нампай, чтобы можно было работать с матрицами."
      ],
      "metadata": {
        "id": "UFu4QfAQBbfx"
      }
    },
    {
      "cell_type": "code",
      "source": [
        "pt = np.sum([x * y for x, y in zip(x_train, y_train)], axis = 0)\n",
        "xxt = np.sum([np.outer(x, x) for x in x_train], axis = 0)\n",
        "w = np.dot(pt, np.linalg.inv(xxt))\n",
        "print(w)"
      ],
      "metadata": {
        "colab": {
          "base_uri": "https://localhost:8080/"
        },
        "id": "0EwQaBOcyp9f",
        "outputId": "825ff869-7a7a-4a5d-b705-6c872b8e44b0"
      },
      "execution_count": 5,
      "outputs": [
        {
          "output_type": "stream",
          "name": "stdout",
          "text": [
            "[ 0.05793234 -0.0346272   0.1912188 ]\n"
          ]
        }
      ]
    },
    {
      "cell_type": "markdown",
      "source": [
        "вычисления по формуле квадратичной функции,\n",
        "w1=0,05793234, w2=-0.0346272, w0=0.1912188, угловой коэффициент=1.67"
      ],
      "metadata": {
        "id": "DEHQyCGhCc4y"
      }
    },
    {
      "cell_type": "code",
      "source": [
        "line_x = list(range(max(x_train[:, 0])))\n",
        "line_y = [-x*w[0]/w[1] - w[2] for x in line_x]"
      ],
      "metadata": {
        "id": "0OC4WFlm2FyO"
      },
      "execution_count": 11,
      "outputs": []
    },
    {
      "cell_type": "markdown",
      "source": [
        "формируем график разделющей линии"
      ],
      "metadata": {
        "id": "M6102-TjCvG2"
      }
    },
    {
      "cell_type": "code",
      "source": [
        "x_0 = x_train[y_train == 1]\n",
        "x_1 = x_train[y_train == -1]"
      ],
      "metadata": {
        "id": "SJbEe8m53FJf"
      },
      "execution_count": 10,
      "outputs": []
    },
    {
      "cell_type": "markdown",
      "source": [
        "формируем точки для 1 и 2 класса"
      ],
      "metadata": {
        "id": "KnZBZGM8C5e2"
      }
    },
    {
      "cell_type": "code",
      "source": [
        "plt.scatter(x_0[:, 0], x_0[:, 1], color = 'red')\n",
        "plt.scatter(x_1[:, 0], x_1[:, 1], color = 'blue')\n",
        "plt.plot(line_x, line_y, color = 'green')\n",
        "plt.xlim([0, 45])\n",
        "plt.ylim([0, 75])\n",
        "plt.ylabel\n",
        "plt.xlabel\n",
        "plt.grid(True)\n",
        "plt.show()"
      ],
      "metadata": {
        "colab": {
          "base_uri": "https://localhost:8080/",
          "height": 430
        },
        "id": "eTD5fDUq84LF",
        "outputId": "96f59f88-32f0-41a1-8278-9790ce6077b9"
      },
      "execution_count": 15,
      "outputs": [
        {
          "output_type": "display_data",
          "data": {
            "text/plain": [
              "<Figure size 640x480 with 1 Axes>"
            ],
            "image/png": "[encoded data removed]"
          },
          "metadata": {}
        }
      ]
    }
  ]
}