{
  "nbformat": 4,
  "nbformat_minor": 0,
  "metadata": {
    "colab": {
      "name": "Пять пиратов",
      "provenance": [],
      "collapsed_sections": [],
      "authorship_tag": "ABX9TyO5gmcodHWK5zbISpRrcpIT",
      "include_colab_link": true
    },
    "kernelspec": {
      "name": "python3",
      "display_name": "Python 3"
    },
    "language_info": {
      "name": "python"
    }
  },
  "cells": [
    {
      "cell_type": "markdown",
      "metadata": {
        "id": "view-in-github",
        "colab_type": "text"
      },
      "source": [
        "<a href=\"https://colab.research.google.com/github/lu7kin/New-world/blob/main/%D0%9F%D1%8F%D1%82%D1%8C_%D0%BF%D0%B8%D1%80%D0%B0%D1%82%D0%BE%D0%B2.ipynb\" target=\"_parent\"><img src=\"https://colab.research.google.com/assets/colab-badge.svg\" alt=\"Open In Colab\"/></a>"
      ]
    },
    {
      "cell_type": "markdown",
      "source": [
        "Условия теории игр \"пять пиратов\":\n",
        " - иерархия;\n",
        " - выживание;\n",
        " - захватить золота как можно больше."
      ],
      "metadata": {
        "id": "P5Ujl5xaymeh"
      }
    },
    {
      "cell_type": "markdown",
      "source": [
        "Капитан == 0,\n",
        "Старпом == 0,\n",
        "Боцман == 0,\n",
        "Рулевой == 0,\n",
        "Матрос == 0"
      ],
      "metadata": {
        "id": "PclSeU0WfACw"
      }
    },
    {
      "cell_type": "markdown",
      "source": [
        "100 == (0; 0; 0; 0; 0)"
      ],
      "metadata": {
        "id": "J5vTZxnGgIQu"
      }
    },
    {
      "cell_type": "code",
      "source": [
        "Капитан=5**100\n",
        "print(Капитан)\n"
      ],
      "metadata": {
        "colab": {
          "base_uri": "https://localhost:8080/"
        },
        "id": "588zV53agutz",
        "outputId": "fd6b073a-385b-4e67-9237-8f6b86c6043b"
      },
      "execution_count": 4,
      "outputs": [
        {
          "output_type": "stream",
          "name": "stdout",
          "text": [
            "7888609052210118054117285652827862296732064351090230047702789306640625\n"
          ]
        }
      ]
    },
    {
      "cell_type": "markdown",
      "source": [
        "100=(0; 0; 0; 0)"
      ],
      "metadata": {
        "id": "5qwvW-4Rjhbo"
      }
    },
    {
      "cell_type": "code",
      "source": [
        "Старпом=4**100\n",
        "print(Старпом)"
      ],
      "metadata": {
        "colab": {
          "base_uri": "https://localhost:8080/"
        },
        "id": "e2PGV8fVjrwd",
        "outputId": "83c3a5b2-a363-433e-a569-632fa103485d"
      },
      "execution_count": 10,
      "outputs": [
        {
          "output_type": "stream",
          "name": "stdout",
          "text": [
            "1606938044258990275541962092341162602522202993782792835301376\n"
          ]
        }
      ]
    },
    {
      "cell_type": "markdown",
      "source": [
        "100=(0; 0; 0)"
      ],
      "metadata": {
        "id": "GMKGIG9yj-AO"
      }
    },
    {
      "cell_type": "code",
      "source": [
        "Боцман=3**100\n",
        "print(Боцман)"
      ],
      "metadata": {
        "colab": {
          "base_uri": "https://localhost:8080/"
        },
        "id": "SKIuK4XnkHCB",
        "outputId": "aa920c32-65c5-4c4a-d766-5d0940fede92"
      },
      "execution_count": 12,
      "outputs": [
        {
          "output_type": "stream",
          "name": "stdout",
          "text": [
            "515377520732011331036461129765621272702107522001\n"
          ]
        }
      ]
    },
    {
      "cell_type": "markdown",
      "source": [
        "Решение от обратного"
      ],
      "metadata": {
        "id": "mg99r-eF0Mtl"
      }
    },
    {
      "cell_type": "markdown",
      "source": [
        "100=(0; 0)"
      ],
      "metadata": {
        "id": "pFbZvUpGk97Q"
      }
    },
    {
      "cell_type": "markdown",
      "source": [
        "Рулевой=(100; 0)"
      ],
      "metadata": {
        "id": "j28OgpChl2pn"
      }
    },
    {
      "cell_type": "markdown",
      "source": [
        "Боцман=(99; 0; 1)"
      ],
      "metadata": {
        "id": "hI_FqNW-mF5_"
      }
    },
    {
      "cell_type": "markdown",
      "source": [
        "Старпом=(98; 0; 1; 1)"
      ],
      "metadata": {
        "id": "iO3ypUWimT5Q"
      }
    },
    {
      "cell_type": "markdown",
      "source": [
        "Капитан=(98; 0; 1; 0; 1)"
      ],
      "metadata": {
        "id": "6DRtyJ_ZmmZQ"
      }
    },
    {
      "cell_type": "markdown",
      "source": [
        "Капитан решает кому дать монету, а кого оставить ни с чем."
      ],
      "metadata": {
        "id": "AnciqzaUm0Mu"
      }
    },
    {
      "cell_type": "markdown",
      "source": [
        "Это ведет к ожесточенной низовой конкуренции."
      ],
      "metadata": {
        "id": "aSHQ7l8QnAfE"
      }
    },
    {
      "cell_type": "markdown",
      "source": [
        "Успех зависит от места в иерархии."
      ],
      "metadata": {
        "id": "m6VKhFJRnJoM"
      }
    },
    {
      "cell_type": "markdown",
      "source": [
        "Выводы для социальной ситемы:\n",
        "\n",
        "1. Общество разорвано иерархиями.\n",
        "\n",
        "2. Смена власти через приемника.\n",
        "\n",
        "3. Всегда продажная оппозиция."
      ],
      "metadata": {
        "id": "tgyd8GBPnk8H"
      }
    },
    {
      "cell_type": "markdown",
      "source": [
        ""
      ],
      "metadata": {
        "id": "eXz4koWPnoSY"
      }
    },
    {
      "cell_type": "markdown",
      "source": [
        "Равновесие (98; 0; 1; 0; 1) есть основа любой формы деспотизма и всех разновидностей авторитаризма."
      ],
      "metadata": {
        "id": "7NAgpntis2cy"
      }
    },
    {
      "cell_type": "markdown",
      "source": [
        "Изменение условий дележа \n",
        "- отутствие иерархии;\n",
        "- выжить;\n",
        "- захватить как можно больше золота."
      ],
      "metadata": {
        "id": "L97oNJJUvXoi"
      }
    },
    {
      "cell_type": "markdown",
      "source": [
        "Решение - делится поровну."
      ],
      "metadata": {
        "id": "ZzVRYHY7wppG"
      }
    },
    {
      "cell_type": "markdown",
      "source": [
        "(20; 20; 20; 20; 20)"
      ],
      "metadata": {
        "id": "MHmrpyAMxSJF"
      }
    },
    {
      "cell_type": "markdown",
      "source": [
        "Равновесие в дмократических режимах - (20; 20; 20; 20; 20)"
      ],
      "metadata": {
        "id": "DTbEteazxoBx"
      }
    },
    {
      "cell_type": "markdown",
      "source": [
        "Выбор за каждым (98; 0; 1; 0; 1) или (20; 20; 20; 20; 20)"
      ],
      "metadata": {
        "id": "MHSMgc1vx3LM"
      }
    },
    {
      "cell_type": "markdown",
      "source": [
        "Деспотизм или демократия?"
      ],
      "metadata": {
        "id": "cNjYgfvmyShg"
      }
    },
    {
      "cell_type": "markdown",
      "source": [
        ""
      ],
      "metadata": {
        "id": "l-b6Hs7eyZ2B"
      }
    }
  ]
}